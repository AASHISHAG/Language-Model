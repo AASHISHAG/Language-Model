{
 "cells": [
  {
   "cell_type": "code",
   "execution_count": 20,
   "metadata": {},
   "outputs": [],
   "source": [
    "from numpy import array\n",
    "from pickle import dump\n",
    "from keras.preprocessing.text import Tokenizer\n",
    "from keras.utils import to_categorical\n",
    "from keras.models import Sequential\n",
    "from keras.layers import Dense\n",
    "from keras.layers import LSTM\n",
    "from keras.layers import Embedding\n",
    "import string\n",
    "import numpy as np"
   ]
  },
  {
   "cell_type": "code",
   "execution_count": 21,
   "metadata": {},
   "outputs": [],
   "source": [
    "# load doc into memory\n",
    "def load_doc(filename):\n",
    "\t# open the file as read only\n",
    "\tfile = open(filename, 'r')\n",
    "\t# read all text\n",
    "\ttext = file.read()\n",
    "\t# close the file\n",
    "\tfile.close()\n",
    "\treturn text"
   ]
  },
  {
   "cell_type": "code",
   "execution_count": 22,
   "metadata": {},
   "outputs": [
    {
     "name": "stdout",
     "output_type": "stream",
     "text": [
      "The Project Gutenberg EBook of The Republic, by Plato\n",
      "\n",
      "This eBook is for the use of anyone anywhere at no cost and with\n",
      "almost no restrictions whatsoever.  You may copy it, give it away or\n",
      "re-use it u\n"
     ]
    }
   ],
   "source": [
    "# load\n",
    "in_filename = 'C:/Users/Aashish Agarwal/Desktop/test.txt'\n",
    "doc = load_doc(in_filename)\n",
    "lines = doc.split('\\n')\n",
    "print(doc[:200])"
   ]
  },
  {
   "cell_type": "code",
   "execution_count": 23,
   "metadata": {},
   "outputs": [],
   "source": [
    "# turn a doc into clean tokens\n",
    "def clean_doc(doc):\n",
    "\t# replace '--' with a space ' '\n",
    "\tdoc = doc.replace('--', ' ')\n",
    "\t# split into tokens by white space\n",
    "\ttokens = doc.split()\n",
    "\t# remove punctuation from each token\n",
    "\ttable = str.maketrans('', '', string.punctuation)\n",
    "\ttokens = [w.translate(table) for w in tokens]\n",
    "\t# remove remaining tokens that are not alphabetic\n",
    "\ttokens = [word for word in tokens if word.isalpha()]\n",
    "\t# make lower case\n",
    "\ttokens = [word.lower() for word in tokens]\n",
    "\treturn tokens"
   ]
  },
  {
   "cell_type": "code",
   "execution_count": 24,
   "metadata": {
    "scrolled": true
   },
   "outputs": [
    {
     "name": "stdout",
     "output_type": "stream",
     "text": [
      "['the', 'project', 'gutenberg', 'ebook', 'of', 'the', 'republic', 'by', 'plato', 'this', 'ebook', 'is', 'for', 'the', 'use', 'of', 'anyone', 'anywhere', 'at', 'no', 'cost', 'and', 'with', 'almost', 'no', 'restrictions', 'whatsoever', 'you', 'may', 'copy', 'it', 'give', 'it', 'away', 'or', 'reuse', 'it', 'under', 'the', 'terms', 'of', 'the', 'project', 'gutenberg', 'license', 'included', 'with', 'this', 'ebook', 'or', 'online', 'at', 'wwwgutenbergorg', 'title', 'the', 'republic', 'author', 'plato', 'translator', 'b', 'jowett', 'posting', 'date', 'august', 'ebook', 'release', 'date', 'october', 'last', 'updated', 'june', 'language', 'english', 'start', 'of', 'this', 'project', 'gutenberg', 'ebook', 'the', 'republic', 'produced', 'by', 'sue', 'asscher', 'the', 'republic', 'by', 'plato', 'translated', 'by', 'benjamin', 'jowett', 'note', 'the', 'republic', 'by', 'plato', 'jowett', 'etext', 'introduction', 'and', 'analysis', 'the', 'republic', 'of', 'plato', 'is', 'the', 'longest', 'of', 'his', 'works', 'with', 'the', 'exception', 'of', 'the', 'laws', 'and', 'is', 'certainly', 'the', 'greatest', 'of', 'them', 'there', 'are', 'nearer', 'approaches', 'to', 'modern', 'metaphysics', 'in', 'the', 'philebus', 'and', 'in', 'the', 'sophist', 'the', 'politicus', 'or', 'statesman', 'is', 'more', 'ideal', 'the', 'form', 'and', 'institutions', 'of', 'the', 'state', 'are', 'more', 'clearly', 'drawn', 'out', 'in', 'the', 'laws', 'as', 'works', 'of', 'art', 'the', 'symposium', 'and', 'the', 'protagoras', 'are', 'of', 'higher', 'excellence', 'but', 'no', 'other', 'dialogue', 'of', 'plato', 'has', 'the', 'same', 'largeness', 'of', 'view', 'and', 'the', 'same', 'perfection', 'of', 'style', 'no', 'other', 'shows', 'an', 'equal', 'knowledge', 'of']\n",
      "Total Tokens: 17588\n",
      "Unique Tokens: 3117\n"
     ]
    }
   ],
   "source": [
    "# clean document\n",
    "tokens = clean_doc(doc)\n",
    "print(tokens[:200])\n",
    "print('Total Tokens: %d' % len(tokens))\n",
    "print('Unique Tokens: %d' % len(set(tokens)))"
   ]
  },
  {
   "cell_type": "code",
   "execution_count": 25,
   "metadata": {},
   "outputs": [
    {
     "name": "stdout",
     "output_type": "stream",
     "text": [
      "Total Sequences: 17537\n"
     ]
    }
   ],
   "source": [
    "# organize into sequences of tokens\n",
    "length = 50 + 1\n",
    "sequences = list()\n",
    "for i in range(length, len(tokens)):\n",
    "\t# select sequence of tokens\n",
    "\tseq = tokens[i-length:i]\n",
    "\t# convert into a line\n",
    "\tline = ' '.join(seq)\n",
    "\t# store\n",
    "\tsequences.append(line)\n",
    "print('Total Sequences: %d' % len(sequences))"
   ]
  },
  {
   "cell_type": "code",
   "execution_count": 26,
   "metadata": {},
   "outputs": [
    {
     "name": "stdout",
     "output_type": "stream",
     "text": [
      "['the project gutenberg ebook of the republic by plato this ebook is for the use of anyone anywhere at no cost and with almost no restrictions whatsoever you may copy it give it away or reuse it under the terms of the project gutenberg license included with this ebook or online', 'project gutenberg ebook of the republic by plato this ebook is for the use of anyone anywhere at no cost and with almost no restrictions whatsoever you may copy it give it away or reuse it under the terms of the project gutenberg license included with this ebook or online at', 'gutenberg ebook of the republic by plato this ebook is for the use of anyone anywhere at no cost and with almost no restrictions whatsoever you may copy it give it away or reuse it under the terms of the project gutenberg license included with this ebook or online at wwwgutenbergorg', 'ebook of the republic by plato this ebook is for the use of anyone anywhere at no cost and with almost no restrictions whatsoever you may copy it give it away or reuse it under the terms of the project gutenberg license included with this ebook or online at wwwgutenbergorg title', 'of the republic by plato this ebook is for the use of anyone anywhere at no cost and with almost no restrictions whatsoever you may copy it give it away or reuse it under the terms of the project gutenberg license included with this ebook or online at wwwgutenbergorg title the']\n"
     ]
    }
   ],
   "source": [
    "print(sequences[:5])"
   ]
  },
  {
   "cell_type": "code",
   "execution_count": 27,
   "metadata": {},
   "outputs": [
    {
     "name": "stdout",
     "output_type": "stream",
     "text": [
      "51\n"
     ]
    }
   ],
   "source": [
    "print(len(sequences[0].split(' ')))"
   ]
  },
  {
   "cell_type": "code",
   "execution_count": 28,
   "metadata": {},
   "outputs": [],
   "source": [
    "lines = sequences"
   ]
  },
  {
   "cell_type": "code",
   "execution_count": 29,
   "metadata": {},
   "outputs": [],
   "source": [
    "# save tokens to file, one dialog per line\n",
    "def save_doc(lines, filename):\n",
    "\tdata = '\\n'.join(lines)\n",
    "\tfile = open(filename, 'w')\n",
    "\tfile.write(data)\n",
    "\tfile.close()"
   ]
  },
  {
   "cell_type": "code",
   "execution_count": 30,
   "metadata": {},
   "outputs": [],
   "source": [
    "# save sequences to file\n",
    "out_filename = 'test_sequences.txt'\n",
    "save_doc(sequences, out_filename)"
   ]
  },
  {
   "cell_type": "code",
   "execution_count": 31,
   "metadata": {},
   "outputs": [],
   "source": [
    "# integer encode sequences of words\n",
    "tokenizer = Tokenizer()\n",
    "tokenizer.fit_on_texts(lines)\n",
    "sequences = tokenizer.texts_to_sequences(lines)"
   ]
  },
  {
   "cell_type": "code",
   "execution_count": 32,
   "metadata": {},
   "outputs": [
    {
     "data": {
      "text/plain": [
       "[1,\n",
       " 1302,\n",
       " 1300,\n",
       " 610,\n",
       " 2,\n",
       " 1,\n",
       " 65,\n",
       " 14,\n",
       " 33,\n",
       " 26,\n",
       " 610,\n",
       " 5,\n",
       " 19,\n",
       " 1,\n",
       " 137,\n",
       " 2,\n",
       " 1304,\n",
       " 3117,\n",
       " 22,\n",
       " 58,\n",
       " 3116,\n",
       " 3,\n",
       " 21,\n",
       " 818,\n",
       " 58,\n",
       " 3113,\n",
       " 3112,\n",
       " 55,\n",
       " 39,\n",
       " 3111,\n",
       " 82,\n",
       " 318,\n",
       " 82,\n",
       " 455,\n",
       " 8,\n",
       " 3108,\n",
       " 82,\n",
       " 157,\n",
       " 1,\n",
       " 454,\n",
       " 2,\n",
       " 1,\n",
       " 1302,\n",
       " 1300,\n",
       " 3107,\n",
       " 1301,\n",
       " 21,\n",
       " 26,\n",
       " 610,\n",
       " 8,\n",
       " 1306]"
      ]
     },
     "execution_count": 32,
     "metadata": {},
     "output_type": "execute_result"
    }
   ],
   "source": [
    "sequences[0]"
   ]
  },
  {
   "cell_type": "code",
   "execution_count": 33,
   "metadata": {},
   "outputs": [
    {
     "name": "stdout",
     "output_type": "stream",
     "text": [
      "{'the': 1, 'of': 2, 'and': 3, 'to': 4, 'is': 5, 'in': 6, 'a': 7, 'or': 8, 'which': 9, 'he': 10, 'that': 11, 'be': 12, 'not': 13, 'by': 14, 'are': 15, 'as': 16, 'his': 17, 'but': 18, 'for': 19, 'have': 20, 'with': 21, 'at': 22, 'justice': 23, 'has': 24, 'we': 25, 'this': 26, 'they': 27, 'who': 28, 'socrates': 29, 'will': 30, 'more': 31, 'only': 32, 'plato': 33, 'their': 34, 'state': 35, 'them': 36, 'an': 37, 'from': 38, 'may': 39, 'him': 40, 'on': 41, 'all': 42, 'was': 43, 'first': 44, 'been': 45, 'than': 46, 'one': 47, 'good': 48, 'there': 49, 'what': 50, 'man': 51, 'into': 52, 'other': 53, 'when': 54, 'you': 55, 'any': 56, 'men': 57, 'no': 58, 'must': 59, 'such': 60, 'life': 61, 'like': 62, 'just': 63, 'glaucon': 64, 'republic': 65, 'would': 66, 'i': 67, 'evil': 68, 'do': 69, 'thrasymachus': 70, 'then': 71, 'some': 72, 'another': 73, 'our': 74, 'were': 75, 'if': 76, 'nor': 77, 'world': 78, 'also': 79, 'argument': 80, 'himself': 81, 'it': 82, 'nature': 83, 'truth': 84, 'had': 85, 'book': 86, 'about': 87, 'can': 88, 'own': 89, 'great': 90, 'whether': 91, 'art': 92, 'well': 93, 'philosophy': 94, 'adeimantus': 95, 'us': 96, 'question': 97, 'injustice': 98, 'interest': 99, 'two': 100, 'now': 101, 'time': 102, 'therefore': 103, 'gods': 104, 'god': 105, 'second': 106, 'should': 107, 'true': 108, 'say': 109, 'unjust': 110, 'human': 111, 'old': 112, 'age': 113, 'mind': 114, 'these': 115, 'too': 116, 'cephalus': 117, 'make': 118, 'virtue': 119, 'many': 120, 'modern': 121, 'ideal': 122, 'out': 123, 'cp': 124, 'words': 125, 'still': 126, 'answer': 127, 'soul': 128, 'better': 129, 'same': 130, 'yet': 131, 'does': 132, 'whole': 133, 'poets': 134, 'happiness': 135, 'both': 136, 'use': 137, 'made': 138, 'because': 139, 'greek': 140, 'work': 141, 'character': 142, 'so': 143, 'up': 144, 'over': 145, 'order': 146, 'ideas': 147, 'real': 148, 'after': 149, 'cannot': 150, 'friends': 151, 'being': 152, 'either': 153, 'arts': 154, 'though': 155, 'right': 156, 'under': 157, 'view': 158, 'always': 159, 'how': 160, 'education': 161, 'having': 162, 'individual': 163, 'religion': 164, 'youth': 165, 'end': 166, 'idea': 167, 'here': 168, 'books': 169, 'most': 170, 'part': 171, 'homer': 172, 'every': 173, 'again': 174, 'common': 175, 'morality': 176, 'poetry': 177, 'without': 178, 'rather': 179, 'principle': 180, 'let': 181, 'never': 182, 'ruler': 183, 'language': 184, 'form': 185, 'those': 186, 'among': 187, 'neither': 188, 'upon': 189, 'between': 190, 'things': 191, 'polemarchus': 192, 'general': 193, 'different': 194, 'themselves': 195, 'three': 196, 'mankind': 197, 'might': 198, 'shall': 199, 'tell': 200, 'your': 201, 'enemies': 202, 'last': 203, 'dialogue': 204, 'knowledge': 205, 'writings': 206, 'ever': 207, 'division': 208, 'said': 209, 'early': 210, 'manner': 211, 'making': 212, 'conception': 213, 'place': 214, 'citizens': 215, 'times': 216, 'seems': 217, 'put': 218, 'lie': 219, 'very': 220, 'laws': 221, 'greatest': 222, 'politics': 223, 'thought': 224, 'law': 225, 'thus': 226, 'much': 227, 'come': 228, 'beginning': 229, 'further': 230, 'want': 231, 'take': 232, 'happy': 233, 'know': 234, 'says': 235, 'mean': 236, 'me': 237, 'once': 238, 'higher': 239, 'dialogues': 240, 'ancient': 241, 'found': 242, 'difference': 243, 'political': 244, 'against': 245, 'perhaps': 246, 'hellenic': 247, 'city': 248, 'influence': 249, 'even': 250, 'moral': 251, 'best': 252, 'natural': 253, 'description': 254, 'generally': 255, 'see': 256, 'through': 257, 'platonic': 258, 'meaning': 259, 'appear': 260, 'described': 261, 'before': 262, 'false': 263, 'easily': 264, 'difficulty': 265, 'discussion': 266, 'money': 267, 'falsehood': 268, 'children': 269, 'makes': 270, 'learn': 271, 'origin': 272, 'go': 273, 'sort': 274, 'goods': 275, 'stronger': 276, 'worse': 277, 'works': 278, 'new': 279, 'greater': 280, 'aristotle': 281, 'history': 282, 'why': 283, 'regarded': 284, 'philosophers': 285, 'perfect': 286, 'conclusion': 287, 'similar': 288, 'later': 289, 'according': 290, 'virtues': 291, 'seeming': 292, 'others': 293, 'side': 294, 'writer': 295, 'speak': 296, 'need': 297, 'day': 298, 'nothing': 299, 'spirit': 300, 'conversation': 301, 'could': 302, 'example': 303, 'appears': 304, 'sons': 305, 'below': 306, 'advantage': 307, 'young': 308, 'remarks': 309, 'follows': 310, 'saying': 311, 'show': 312, 'socratic': 313, 'my': 314, 'replies': 315, 'war': 316, 'desirable': 317, 'give': 318, 'already': 319, 'enough': 320, 'author': 321, 'note': 322, 'point': 323, 'method': 324, 'although': 325, 'science': 326, 'whom': 327, 'seen': 328, 'principles': 329, 'definition': 330, 'thing': 331, 'writers': 332, 'third': 333, 'design': 334, 'fact': 335, 'subject': 336, 'narrative': 337, 'speech': 338, 'experience': 339, 'unity': 340, 'literature': 341, 'rulers': 342, 'music': 343, 'hardly': 344, 'sixth': 345, 'pleasure': 346, 'kingdom': 347, 'points': 348, 'admitted': 349, 'philosopher': 350, 'degree': 351, 'principal': 352, 'stage': 353, 'kind': 354, 'least': 355, 'divine': 356, 'sophists': 357, 'heaven': 358, 'truly': 359, 'love': 360, 'taken': 361, 'necessity': 362, 'analogy': 363, 'next': 364, 'sense': 365, 'arguments': 366, 'final': 367, 'certain': 368, 'reason': 369, 'thinks': 370, 'rich': 371, 'word': 372, 'pay': 373, 'authority': 374, 'harm': 375, 'strength': 376, 'action': 377, 'results': 378, 'trade': 379, 'zeus': 380, 'care': 381, 'introduction': 382, 'certainly': 383, 'perfection': 384, 'thoughts': 385, 'power': 386, 'speculation': 387, 'highest': 388, 'realized': 389, 'notion': 390, 'conditions': 391, 'elements': 392, 'probably': 393, 'doctrine': 394, 'given': 395, 'supposed': 396, 'relation': 397, 'treated': 398, 'high': 399, 'imaginary': 400, 'where': 401, 'original': 402, 'ages': 403, 'length': 404, 'down': 405, 'notions': 406, 'enquiry': 407, 'x': 408, 'phaedrus': 409, 'occur': 410, 'hands': 411, 'society': 412, 'body': 413, 'christian': 414, 'external': 415, 'house': 416, 'image': 417, 'rewards': 418, 'ordinary': 419, 'platos': 420, 'rule': 421, 'ought': 422, 'dialectic': 423, 'brothers': 424, 'left': 425, 'company': 426, 'above': 427, 'shown': 428, 'scene': 429, 'simonides': 430, 'incapable': 431, 'admit': 432, 'family': 433, 'knows': 434, 'ready': 435, 'becomes': 436, 'taught': 437, 'dog': 438, 'festival': 439, 'asks': 440, 'back': 441, 'going': 442, 'simple': 443, 'listen': 444, 'praises': 445, 'secondly': 446, 'frame': 447, 'hesiod': 448, 'wicked': 449, 'gradually': 450, 'labour': 451, 'retail': 452, 'tales': 453, 'terms': 454, 'away': 455, 'date': 456, 'sophist': 457, 'drawn': 458, 'deeper': 459, 'humour': 460, 'especially': 461, 'greeks': 462, 'distinguished': 463, 'genius': 464, 'thinker': 465, 'based': 466, 'causes': 467, 'necessary': 468, 'rep': 469, 'confusion': 470, 'discovered': 471, 'critias': 472, 'fiction': 473, 'represent': 474, 'timaeus': 475, 'itself': 476, 'lost': 477, 'years': 478, 'ourselves': 479, 'fancy': 480, 'athenian': 481, 'far': 482, 'apollo': 483, 'states': 484, 'little': 485, 'conscious': 486, 'remain': 487, 'generation': 488, 'church': 489, 'father': 490, 'explained': 491, 'harmony': 492, 'kings': 493, 'religious': 494, 'honour': 495, 'tyranny': 496, 'facts': 497, 'full': 498, 'passed': 499, 'worst': 500, 'changed': 501, 'quarrel': 502, 'five': 503, 'opinion': 504, 'social': 505, 'individuals': 506, 'accordance': 507, 'while': 508, 'arises': 509, 'questions': 510, 'asking': 511, 'few': 512, 'writing': 513, 'internal': 514, 'element': 515, 'hand': 516, 'inconsistency': 517, 'several': 518, 'written': 519, 'ethical': 520, 'often': 521, 'large': 522, 'comprehended': 523, 'naturally': 524, 'four': 525, 'sun': 526, 'philosophical': 527, 'passes': 528, 'important': 529, 'respecting': 530, 'persons': 531, 'argue': 532, 'useless': 533, 'characters': 534, 'name': 535, 'friend': 536, 'past': 537, 'whose': 538, 'ask': 539, 'expression': 540, 'force': 541, 'women': 542, 'brother': 543, 'unless': 544, 'present': 545, 'historical': 546, 'master': 547, 'weakness': 548, 'souls': 549, 'quite': 550, 'process': 551, 'enemy': 552, 'sake': 553, 'answered': 554, 'respondent': 555, 'slight': 556, 'towards': 557, 'teaching': 558, 'help': 559, 'suppose': 560, 'used': 561, 'illustration': 562, 'allegory': 563, 'proceed': 564, 'promise': 565, 'return': 566, 'felt': 567, 'yes': 568, 'reply': 569, 'bad': 570, 'look': 571, 'proceeds': 572, 'did': 573, 'produce': 574, 'poet': 575, 'cases': 576, 'interpretation': 577, 'equally': 578, 'sheep': 579, 'whereas': 580, 'reward': 581, 'motive': 582, 'gain': 583, 'skilled': 584, 'unskilled': 585, 'excess': 586, 'thirdly': 587, 'apart': 588, 'gifts': 589, 'add': 590, 'appearance': 591, 'picture': 592, 'heroes': 593, 'misery': 594, 'sin': 595, 'guardian': 596, 'theories': 597, 'actions': 598, 'ethics': 599, 'required': 600, 'natures': 601, 'stories': 602, 'hephaestus': 603, 'change': 604, 'agamemnon': 605, 'achilles': 606, 'parts': 607, 'act': 608, 'guardians': 609, 'ebook': 610, 'jowett': 611, 'analysis': 612, 'nearer': 613, 'institutions': 614, 'protagoras': 615, 'excellence': 616, 'style': 617, 'shows': 618, 'irony': 619, 'dramatic': 620, 'attempt': 621, 'v': 622, 'vi': 623, 'thinkers': 624, 'attained': 625, 'conceived': 626, 'substance': 627, 'logic': 628, 'supplied': 629, 'means': 630, 'forms': 631, 'logical': 632, 'apt': 633, 'sight': 634, 'eg': 635, 'existence': 636, 'forget': 637, 'athens': 638, 'inspired': 639, 'poem': 640, 'hellas': 641, 'judge': 642, 'noble': 643, 'iii': 644, 'captain': 645, 'numerous': 646, 'asserted': 647, 'authors': 648, 'brought': 649, 'repeated': 650, 'reign': 651, 'reduced': 652, 'become': 653, 'simplicity': 654, 'gymnastic': 655, 'soldier': 656, 'democracy': 657, 'earlier': 658, 'divisions': 659, 'ii': 660, 'sophistical': 661, 'result': 662, 'includes': 663, 'fourth': 664, 'consists': 665, 'takes': 666, 'relations': 667, 'finally': 668, 'determined': 669, 'governments': 670, 'really': 671, 'imperfect': 672, 'light': 673, 'plan': 674, 'less': 675, 'case': 676, 'long': 677, 'evidence': 678, 'single': 679, 'composed': 680, 'visible': 681, 'efforts': 682, 'test': 683, 'concerning': 684, 'antiquity': 685, 'aim': 686, 'embodiment': 687, 'fair': 688, 'reality': 689, 'within': 690, 'shadow': 691, 'criticism': 692, 'indeed': 693, 'grows': 694, 'begins': 695, 'reader': 696, 'necessarily': 697, 'purpose': 698, 'prose': 699, 'intention': 700, 'represented': 701, 'people': 702, 'imagination': 703, 'figures': 704, 'raised': 705, 'held': 706, 'greatly': 707, 'sacrifice': 708, 'done': 709, 'peace': 710, 'escaped': 711, 'riches': 712, 'interesting': 713, 'moderation': 714, 'characteristic': 715, 'cicero': 716, 'evening': 717, 'off': 718, 'answers': 719, 'belongs': 720, 'thief': 721, 'allusion': 722, 'inevitable': 723, 'serious': 724, 'concerned': 725, 'touch': 726, 'remark': 727, 'thou': 728, 'phaedo': 729, 'introduced': 730, 'ariston': 731, 'likeness': 732, 'mem': 733, 'animals': 734, 'pigs': 735, 'allow': 736, 'mouth': 737, 'insists': 738, 'consequences': 739, 'indirect': 740, 'mythology': 741, 'seriously': 742, 'passing': 743, 'beyond': 744, 'universal': 745, 'public': 746, 'thesis': 747, 'enlarged': 748, 'abstract': 749, 'figure': 750, 'animal': 751, 'ignorant': 752, 'added': 753, 'torchrace': 754, 'night': 755, 'sorrows': 756, 'something': 757, 'imagine': 758, 'compelled': 759, 'sacrifices': 760, 'afterwards': 761, 'madman': 762, 'proper': 763, 'way': 764, 'useful': 765, 'hero': 766, 'praise': 767, 'induced': 768, 'understand': 769, 'eating': 770, 'strong': 771, 'position': 772, 'shepherd': 773, 'subjects': 774, 'fear': 775, 'paradox': 776, 'vice': 777, 'standard': 778, 'needed': 779, 'union': 780, 'happier': 781, 'inseparable': 782, 'entertainment': 783, 'implies': 784, 'compared': 785, 'limit': 786, 'class': 787, 'prove': 788, 'compact': 789, 'eyes': 790, 'got': 791, 'reputation': 792, 'carry': 793, 'easy': 794, 'righteous': 795, 'get': 796, 'rid': 797, 'minds': 798, 'refuse': 799, 'save': 800, 'sometimes': 801, 'death': 802, 'country': 803, 'citizen': 804, 'afraid': 805, 'allowed': 806, 'food': 807, 'exchange': 808, 'imports': 809, 'luxury': 810, 'immoral': 811, 'fictions': 812, 'religions': 813, 'dead': 814, 'hector': 815, 'play': 816, 'tragedy': 817, 'almost': 818, 'small': 819, 'freedom': 820, 'title': 821, 'english': 822, 'metaphysics': 823, 'philebus': 824, 'politicus': 825, 'clearly': 826, 'symposium': 827, 'contains': 828, 'nowhere': 829, 'around': 830, 'reaches': 831, 'vii': 832, 'bacon': 833, 'outline': 834, 'content': 835, 'abstraction': 836, 'future': 837, 'contradiction': 838, 'arguing': 839, 'circle': 840, 'distinction': 841, 'pleasures': 842, 'invented': 843, 'truths': 844, 'lose': 845, 'ff': 846, 'veiled': 847, 'imagines': 848, 'claims': 849, 'fragment': 850, 'importance': 851, 'tale': 852, 'troy': 853, 'century': 854, 'athenians': 855, 'told': 856, 'struggle': 857, 'liberty': 858, 'tim': 859, 'intended': 860, 'conflict': 861, 'guess': 862, 'became': 863, 'sensible': 864, 'please': 865, 'finished': 866, 'reflection': 867, 'growth': 868, 'exceed': 869, 'athene': 870, 'introd': 871, 'de': 872, 'sir': 873, 'framed': 874, 'model': 875, 'extent': 876, 'aristotelian': 877, 'recognised': 878, 'traced': 879, 'bears': 880, 'treatise': 881, 'rousseau': 882, 'revelation': 883, 'symp': 884, 'hearts': 885, 'reflected': 886, 'equality': 887, 'dream': 888, 'discussed': 889, 'basis': 890, 'proverbial': 891, 'partially': 892, 'invisible': 893, 'reappears': 894, 'constructed': 895, 'strain': 896, 'led': 897, 'anything': 898, 'marriage': 899, 'intellectual': 900, 'succeeds': 901, 'government': 902, 'lover': 903, 'regular': 904, 'actual': 905, 'lightly': 906, 'containing': 907, 'popular': 908, 'concluding': 909, 'appearances': 910, 'remainder': 911, 'occupied': 912, 'construction': 913, 'fifth': 914, 'seventh': 915, 'ruled': 916, 'contemplation': 917, 'eighth': 918, 'ninth': 919, 'perversions': 920, 'succession': 921, 'tenth': 922, 'crowned': 923, 'iv': 924, 'opposed': 925, 'breaks': 926, 'temple': 927, 'heavens': 928, 'reconcilement': 929, 'together': 930, 'composition': 931, 'iliad': 932, 'worth': 933, 'distinct': 934, 'mode': 935, 'absurdity': 936, 'laid': 937, 'aside': 938, 'likely': 939, 'short': 940, 'attempts': 941, 'chronological': 942, 'affect': 943, 'longer': 944, 'able': 945, 'judgment': 946, 'anticipate': 947, 'connexion': 948, 'systems': 949, 'amid': 950, 'effort': 951, 'confirmed': 952, 'quoted': 953, 'building': 954, 'run': 955, 'dismissed': 956, 'throughout': 957, 'honesty': 958, 'chiefly': 959, 'outward': 960, 'however': 961, 'remains': 962, 'seeks': 963, 'find': 964, 'stallbaum': 965, 'explanations': 966, 'representation': 967, 'sought': 968, 'problem': 969, 'vehicle': 970, 'prophets': 971, 'lord': 972, 'righteousness': 973, 'continuing': 974, 'tyrants': 975, 'teachers': 976, 'earth': 977, 'pattern': 978, 'clouds': 979, 'allowable': 980, 'myths': 981, 'judged': 982, 'rules': 983, 'fashioning': 984, 'possession': 985, 'discuss': 986, 'came': 987, 'type': 988, 'satisfy': 989, 'portions': 990, 'bc': 991, 'etc': 992, 'met': 993, 'forty': 994, 'investigation': 995, 'dates': 996, 'apol': 997, 'anachronisms': 998, 'close': 999, 'lysias': 1000, 'unknown': 1001, 'cleitophon': 1002, 'offering': 1003, 'drawing': 1004, 'linger': 1005, 'fond': 1006, 'youthful': 1007, 'acknowledges': 1008, 'placing': 1009, 'dishonesty': 1010, 'attention': 1011, 'alike': 1012, 'noted': 1013, 'seem': 1014, 'feeling': 1015, 'possible': 1016, 'touches': 1017, 'ad': 1018, 'propriety': 1019, 'son': 1020, 'heir': 1021, 'frankness': 1022, 'represents': 1023, 'pindar': 1024, 'elicited': 1025, 'follow': 1026, 'victim': 1027, 'thirty': 1028, 'fate': 1029, 'giant': 1030, 'heard': 1031, 'vain': 1032, 'discourse': 1033, 'paid': 1034, 'escape': 1035, 'mere': 1036, 'child': 1037, 'reached': 1038, 'tries': 1039, 'insolence': 1040, 'attributed': 1041, 'uncertain': 1042, 'errors': 1043, 'grow': 1044, 'mouths': 1045, 'adds': 1046, 'pompous': 1047, 'open': 1048, 'bodily': 1049, 'complete': 1050, 'beaten': 1051, 'soon': 1052, 'apparent': 1053, 'attacked': 1054, 'rhetoric': 1055, 'ridiculous': 1056, 'bold': 1057, 'battle': 1058, 'xen': 1059, 'acquainted': 1060, 'mysteries': 1061, 'turns': 1062, 'ludicrous': 1063, 'jest': 1064, 'lovers': 1065, 'behaviour': 1066, 'alluded': 1067, 'opens': 1068, 'game': 1069, 'pursues': 1070, 'considered': 1071, 'fails': 1072, 'carries': 1073, 'lighter': 1074, 'pass': 1075, 'corruption': 1076, 'course': 1077, 'stages': 1078, 'followed': 1079, 'lastly': 1080, 'convinced': 1081, 'wholly': 1082, 'consistent': 1083, 'memorabilia': 1084, 'xenophon': 1085, 'ironical': 1086, 'questioning': 1087, 'enmity': 1088, 'passage': 1089, 'retained': 1090, 'inference': 1091, 'discovery': 1092, 'looked': 1093, 'describes': 1094, 'companion': 1095, 'absolutely': 1096, 'disciple': 1097, 'sign': 1098, 'instances': 1099, 'images': 1100, 'parable': 1101, 'ix': 1102, 'passages': 1103, 'speculations': 1104, 'error': 1105, 'leaders': 1106, 'measure': 1107, 'head': 1108, 'representations': 1109, 'retains': 1110, 'consider': 1111, 'aspects': 1112, 'lights': 1113, 'read': 1114, 'bendis': 1115, 'party': 1116, 'reminded': 1117, 'detained': 1118, 'promising': 1119, 'replied': 1120, 'seriphian': 1121, 'inherited': 1122, 'deceived': 1123, 'preparing': 1124, 'debts': 1125, 'exceptions': 1126, 'retires': 1127, 'mythus': 1128, 'contracts': 1129, 'partnerships': 1130, 'kept': 1131, 'attack': 1132, 'homeric': 1133, 'maxim': 1134, 'wants': 1135, 'set': 1136, 'level': 1137, 'theologians': 1138, 'established': 1139, 'particular': 1140, 'prior': 1141, 'interrogation': 1142, 'appeal': 1143, 'folly': 1144, 'agree': 1145, 'finds': 1146, 'beef': 1147, 'apparently': 1148, 'interests': 1149, 'mistake': 1150, 'assertion': 1151, 'disposed': 1152, 'admission': 1153, 'artist': 1154, 'she': 1155, 'shepherds': 1156, 'proves': 1157, 'tyrant': 1158, 'profitable': 1159, 'physician': 1160, 'insist': 1161, 'office': 1162, 'concern': 1163, 'punishment': 1164, 'opposite': 1165, 'demand': 1166, 'gainful': 1167, 'compare': 1168, 'mutual': 1169, 'assumes': 1170, 'attitude': 1171, 'net': 1172, 'seek': 1173, 'falls': 1174, 'consideration': 1175, 'clear': 1176, 'latter': 1177, 'remnant': 1178, 'absolute': 1179, 'anothers': 1180, 'wickedness': 1181, 'disappeared': 1182, 'advantages': 1183, 'faculties': 1184, 'agreement': 1185, 'manners': 1186, 'readily': 1187, 'requires': 1188, 'conveyed': 1189, 'implied': 1190, 'employed': 1191, 'suggested': 1192, 'doing': 1193, 'injured': 1194, 'obedience': 1195, 'fine': 1196, 'king': 1197, 'john': 1198, 'called': 1199, 'trace': 1200, 'satisfied': 1201, 'classes': 1202, 'suffer': 1203, 'impossibility': 1204, 'observe': 1205, 'fool': 1206, 'rest': 1207, 'bound': 1208, 'likes': 1209, 'worship': 1210, 'heavy': 1211, 'musaeus': 1212, 'attribute': 1213, 'afflicted': 1214, 'fathers': 1215, 'hear': 1216, 'unpunished': 1217, 'powers': 1218, 'angry': 1219, 'honours': 1220, 'tend': 1221, 'combined': 1222, 'foundation': 1223, 'selflove': 1224, 'partial': 1225, 'circumstances': 1226, 'civilized': 1227, 'free': 1228, 'ghost': 1229, 'custom': 1230, 'mixed': 1231, 'stoical': 1232, 'exceptional': 1233, 'seeking': 1234, 'taking': 1235, 'greece': 1236, 'oldfashioned': 1237, 'protag': 1238, 'affirm': 1239, 'condition': 1240, 'letters': 1241, 'ie': 1242, 'coincide': 1243, 'duty': 1244, 'unto': 1245, 'whenever': 1246, 'draw': 1247, 'necessitate': 1248, 'exports': 1249, 'producers': 1250, 'wine': 1251, 'possibly': 1252, 'complex': 1253, 'learned': 1254, 'aptitude': 1255, 'dogs': 1256, 'gentleness': 1257, 'qualities': 1258, 'gentle': 1259, 'knowing': 1260, 'kinds': 1261, 'untrue': 1262, 'lies': 1263, 'unprocurable': 1264, 'incited': 1265, 'mother': 1266, 'understanding': 1267, 'teaches': 1268, 'begging': 1269, 'lying': 1270, 'changes': 1271, 'thetis': 1272, 'community': 1273, 'countries': 1274, 'medium': 1275, 'primitive': 1276, 'economy': 1277, 'comes': 1278, 'inferior': 1279, 'speaking': 1280, 'economies': 1281, 'falsely': 1282, 'requiring': 1283, 'events': 1284, 'lesson': 1285, 'christ': 1286, 'deception': 1287, 'preparation': 1288, 'believes': 1289, 'verses': 1290, 'violent': 1291, 'selfcontrol': 1292, 'places': 1293, 'achaeans': 1294, 'hast': 1295, 'meanness': 1296, 'rivergod': 1297, 'cruelty': 1298, 'partly': 1299, 'gutenberg': 1300, 'included': 1301, 'project': 1302, 'comedy': 1303, 'anyone': 1304, 'business': 1305, 'online': 1306, 'wwwgutenbergorg': 1307, 'translator': 1308, 'b': 1309, 'posting': 1310, 'august': 1311, 'release': 1312, 'october': 1313, 'updated': 1314, 'june': 1315, 'start': 1316, 'produced': 1317, 'sue': 1318, 'asscher': 1319, 'translated': 1320, 'benjamin': 1321, 'etext': 1322, 'longest': 1323, 'exception': 1324, 'approaches': 1325, 'statesman': 1326, 'largeness': 1327, 'equal': 1328, 'wealth': 1329, 'imagery': 1330, 'interweave': 1331, 'connect': 1332, 'centre': 1333, 'grouped': 1334, 'moderns': 1335, 'bare': 1336, 'metaphysical': 1337, 'germs': 1338, 'contained': 1339, 'sciences': 1340, 'psychology': 1341, 'instruments': 1342, 'afterages': 1343, 'analyses': 1344, 'fallacy': 1345, 'essence': 1346, 'accidents': 1347, 'ends': 1348, 'rational': 1349, 'concupiscent': 1350, 'irascible': 1351, 'desires': 1352, 'unnecessary': 1353, 'strenuously': 1354, 'insisted': 1355, 'polit': 1356, 'cratyl': 1357, 'avoided': 1358, 'bind': 1359, 'formulae': 1360, 'contemplate': 1361, 'unlike': 1362, 'syllogism': 1363, 'soph': 1364, 'elenchi': 1365, 'larger': 1366, 'physical': 1367, 'birth': 1368, 'worldfamous': 1369, 'legend': 1370, 'arthur': 1371, 'navigators': 1372, 'sixteenth': 1373, 'mythical': 1374, 'wars': 1375, 'island': 1376, 'atlantis': 1377, 'founded': 1378, 'unfinished': 1379, 'solon': 1380, 'stood': 1381, 'logographers': 1382, 'poems': 1383, 'c': 1384, 'persia': 1385, 'commencement': 1386, 'abandoned': 1387, 'incongruity': 1388, 'fictitious': 1389, 'advancing': 1390, 'forbade': 1391, 'completion': 1392, 'sympathising': 1393, 'independence': 1394, 'singing': 1395, 'hymn': 1396, 'triumph': 1397, 'marathon': 1398, 'salamis': 1399, 'herodotus': 1400, 'contemplates': 1401, 'empire': 1402, 'brave': 1403, 'greatness': 1404, 'attributing': 1405, 'victory': 1406, 'favor': 1407, 'arhchegoz': 1408, 'leader': 1409, 'goodly': 1410, 'band': 1411, 'followers': 1412, 'ciceros': 1413, 'republica': 1414, 'st': 1415, 'augustines': 1416, 'utopia': 1417, 'thomas': 1418, 'school': 1419, 'indebted': 1420, 'recognition': 1421, 'undetected': 1422, 'affinities': 1423, 'cambridge': 1424, 'platonists': 1425, 'berkeley': 1426, 'coleridge': 1427, 'witness': 1428, 'herself': 1429, 'conviction': 1430, 'enthusiastically': 1431, 'gaining': 1432, 'ground': 1433, 'renaissance': 1434, 'milton': 1435, 'locke': 1436, 'jean': 1437, 'paul': 1438, 'goethe': 1439, 'legitimate': 1440, 'descendants': 1441, 'dante': 1442, 'bunyan': 1443, 'profoundly': 1444, 'impressed': 1445, 'exercised': 1446, 'theology': 1447, 'revival': 1448, 'fragments': 1449, 'secondhand': 1450, 'd': 1451, 'ravished': 1452, 'idealism': 1453, 'latest': 1454, 'conceptions': 1455, 'statesmen': 1456, 'sexes': 1457, 'anticipated': 1458, 'search': 1459, 'hinted': 1460, 'blameless': 1461, 'caricatured': 1462, 'providing': 1463, 'improved': 1464, 'manlier': 1465, 'calls': 1466, 'marrying': 1467, 'giving': 1468, 'quickly': 1469, 'degenerates': 1470, 'declining': 1471, 'resemblance': 1472, 'wheel': 1473, 'begin': 1474, 'period': 1475, 'resumed': 1476, 'fought': 1477, 'imitation': 1478, 'thrice': 1479, 'removed': 1480, 'condemned': 1481, 'imitator': 1482, 'sent': 1483, 'banishment': 1484, 'along': 1485, 'supplemented': 1486, 'gc': 1487, 'lewis': 1488, 'classical': 1489, 'museum': 1490, 'vol': 1491, 'p': 1492, 'number': 1493, 'half': 1494, 'paragraph': 1495, 'admired': 1496, 'introductory': 1497, 'refutation': 1498, 'arriving': 1499, 'definite': 1500, 'appended': 1501, 'restatement': 1502, 'demanded': 1503, 'stripped': 1504, 'mainly': 1505, 'communism': 1506, 'correspond': 1507, 'reviewed': 1508, 'analysed': 1509, 'assured': 1510, 'vision': 1511, 'adopted': 1512, 'transformed': 1513, 'opposition': 1514, 'regularity': 1515, 'fades': 1516, 'imperfection': 1517, 'structure': 1518, 'enlargement': 1519, 'struggling': 1520, 'odyssey': 1521, 'publication': 1522, 'scruple': 1523, 'altering': 1524, 'adding': 1525, 'known': 1526, 'supposing': 1527, 'labours': 1528, 'turned': 1529, 'interruptions': 1530, 'determine': 1531, 'uncertainty': 1532, 'disturbing': 1533, 'shorter': 1534, 'ones': 1535, 'discrepancies': 1536, 'arise': 1537, 'discordant': 1538, 'attempted': 1539, 'unite': 1540, 'recognise': 1541, 'obvious': 1542, 'perceive': 1543, 'gaps': 1544, 'beginnings': 1545, 'inconsistencies': 1546, 'paths': 1547, 'worn': 1548, 'precisely': 1549, 'defined': 1550, 'consistency': 1551, 'creations': 1552, 'wanting': 1553, 'tried': 1554, 'defective': 1555, 'deficiency': 1556, 'proof': 1557, 'supposition': 1558, 'uninterruptedly': 1559, 'continuous': 1560, 'references': 1561, 'titles': 1562, 'assumed': 1563, 'morgenstern': 1564, 'asked': 1565, 'professed': 1566, 'blend': 1567, 'faces': 1568, 'hegelian': 1569, 'phraseology': 1570, 'developes': 1571, 'eternal': 1572, 'proportions': 1573, 'earthly': 1574, 'warp': 1575, 'woof': 1576, 'texture': 1577, 'constitution': 1578, 'completed': 1579, 'names': 1580, 'inner': 1581, 'punishments': 1582, 'buying': 1583, 'selling': 1584, 'motions': 1585, 'heavenly': 1586, 'bodies': 1587, 'hypotheses': 1588, 'indications': 1589, 'referred': 1590, 'worked': 1591, 'seize': 1592, 'vaguest': 1593, 'dissatisfied': 1594, 'perfected': 1595, 'governed': 1596, 'descriptions': 1597, 'express': 1598, 'designs': 1599, 'excluded': 1600, 'association': 1601, 'interfere': 1602, 'plastic': 1603, 'relatively': 1604, 'subjectmatter': 1605, 'intelligible': 1606, 'jewish': 1607, 'messiah': 1608, 'suffering': 1609, 'servant': 1610, 'healing': 1611, 'wings': 1612, 'convey': 1613, 'spiritual': 1614, 'ideals': 1615, 'reveals': 1616, 'exists': 1617, 'creation': 1618, 'pierces': 1619, 'shade': 1620, 'dark': 1621, 'veil': 1622, 'plane': 1623, 'fancies': 1624, 'probabilities': 1625, 'artistic': 1626, 'practicable': 1627, 'inward': 1628, 'practicability': 1629, 'attains': 1630, 'bear': 1631, 'marks': 1632, 'framework': 1633, 'organisation': 1634, 'pursued': 1635, 'spectator': 1636, 'summit': 1637, 'fail': 1638, 'requirements': 1639, 'minor': 1640, 'boeckh': 1641, 'year': 1642, 'proposed': 1643, 'notoriously': 1644, 'careless': 1645, 'chronology': 1646, 'aims': 1647, 'probability': 1648, 'mentioned': 1649, 'occurred': 1650, 'reading': 1651, 'shakespeare': 1652, 'dramas': 1653, 'trouble': 1654, 'historically': 1655, 'waste': 1656, 'inventing': 1657, 'farfetched': 1658, 'reconcilements': 1659, 'avoid': 1660, 'difficulties': 1661, 'conjecture': 1662, 'cf': 1663, 'hermann': 1664, 'uncles': 1665, 'intentionally': 1666, 'indicating': 1667, 'drops': 1668, 'silence': 1669, 'main': 1670, 'carried': 1671, 'orator': 1672, 'euthydemus': 1673, 'charmantides': 1674, 'mute': 1675, 'auditors': 1676, 'interrupts': 1677, 'ally': 1678, 'patriarch': 1679, 'appropriately': 1680, 'engaged': 1681, 'feels': 1682, 'memory': 1683, 'eager': 1684, 'visit': 1685, 'consciousness': 1686, 'wellspent': 1687, 'glad': 1688, 'lusts': 1689, 'affection': 1690, 'indifference': 1691, 'garrulity': 1692, 'traits': 1693, 'absorbed': 1694, 'temptation': 1695, 'respectful': 1696, 'mission': 1697, 'imposed': 1698, 'oracle': 1699, 'leads': 1700, 'suited': 1701, 'raise': 1702, 'pictured': 1703, 'tolerable': 1704, 'portion': 1705, 'contrasts': 1706, 'exaggeration': 1707, 'senectute': 1708, 'expressive': 1709, 'fewest': 1710, 'ep': 1711, 'attic': 1712, 'aged': 1713, 'understood': 1714, 'violation': 1715, 'lysimachus': 1716, 'laches': 1717, 'impetuousness': 1718, 'detaining': 1719, 'opening': 1720, 'limited': 1721, 'quotes': 1722, 'aristoph': 1723, 'experienced': 1724, 'refuting': 1725, 'presocratic': 1726, 'predialectical': 1727, 'bewildered': 1728, 'contra': 1729, 'eratosth': 1730, 'fell': 1731, 'circumstance': 1732, 'syracusan': 1733, 'migrated': 1734, 'thurii': 1735, 'chalcedonian': 1736, 'personification': 1737, 'characteristics': 1738, 'blustering': 1739, 'refusing': 1740, 'oration': 1741, 'hoping': 1742, 'thereby': 1743, 'unable': 1744, 'foresee': 1745, 'move': 1746, 'shut': 1747, 'framing': 1748, 'respect': 1749, 'advance': 1750, 'defending': 1751, 'vainly': 1752, 'cover': 1753, 'banter': 1754, 'doctrines': 1755, 'infancy': 1756, 'speakers': 1757, 'thucydides': 1758, 'inequality': 1759, 'contest': 1760, 'empty': 1761, 'utterly': 1762, 'helpless': 1763, 'springs': 1764, 'vanity': 1765, 'irritated': 1766, 'noisy': 1767, 'imbecile': 1768, 'rage': 1769, 'lays': 1770, 'thrusts': 1771, 'assailant': 1772, 'determination': 1773, 'cram': 1774, 'throats': 1775, 'elicits': 1776, 'cry': 1777, 'horror': 1778, 'temper': 1779, 'worthy': 1780, 'amusing': 1781, 'submission': 1782, 'thoroughly': 1783, 'continue': 1784, 'reluctance': 1785, 'goodwill': 1786, 'testifies': 1787, 'occasional': 1788, 'humorously': 1789, 'protected': 1790, 'quintilian': 1791, 'aristotles': 1792, 'preserved': 1793, 'contemporary': 1794, 'herodicus': 1795, 'aris': 1796, 'rhet': 1797, 'wast': 1798, 'devoid': 1799, 'verisimilitude': 1800, 'silenced': 1801, 'respondents': 1802, 'actors': 1803, 'wear': 1804, 'simmias': 1805, 'cebes': 1806, 'examination': 1807, 'similarity': 1808, 'vanishes': 1809, 'impetuous': 1810, 'fechting': 1811, 'juvenis': 1812, 'qui': 1813, 'gaudet': 1814, 'canibus': 1815, 'improves': 1816, 'breed': 1817, 'experiences': 1818, 'quickness': 1819, 'penetration': 1820, 'piercing': 1821, 'clumsy': 1822, 'platitudes': 1823, 'seamy': 1824, 'faith': 1825, 'seizes': 1826, 'termed': 1827, 'prepared': 1828, 'offers': 1829, 'opportunity': 1830, 'appreciate': 1831, 'connoisseurs': 1832, 'theatricals': 1833, 'fantastic': 1834, 'weaknesses': 1835, 'megara': 1836, 'anno': 1837, 'graver': 1838, 'profounder': 1839, 'objections': 1840, 'commonly': 1841, 'demonstrative': 1842, 'liveliness': 1843, 'quick': 1844, 'sympathy': 1845, 'maturer': 1846, 'grownup': 1847, 'regard': 1848, 'vein': 1849, 'urges': 1850, 'direct': 1851, 'consequence': 1852, 'tone': 1853, 'volunteers': 1854, 'refuses': 1855, 'argumentative': 1856, 'imaginative': 1857, 'resumes': 1858, 'apprehending': 1859, 'hits': 1860, 'returns': 1861, 'compares': 1862, 'contentious': 1863, 'superseded': 1864, 'continues': 1865, 'successive': 1866, 'gentleman': 1867, 'olden': 1868, 'practical': 1869, 'regulating': 1870, 'proverbs': 1871, 'saws': 1872, 'wild': 1873, 'generalization': 1874, 'disciples': 1875, 'teacher': 1876, 'desire': 1877, 'delineation': 1878, 'depicted': 1879, 'earliest': 1880, 'apology': 1881, 'provoking': 1882, 'mask': 1883, 'silenus': 1884, 'abates': 1885, 'representatives': 1886, 'corrupters': 1887, 'dogmatic': 1888, 'constructive': 1889, 'range': 1890, 'speculative': 1891, 'intimate': 1892, 'repeating': 1893, 'dwelt': 1894, 'deep': 1895, 'failed': 1896, 'positive': 1897, 'nominally': 1898, 'affectation': 1899, 'wearisome': 1900, 'advances': 1901, 'interlocutors': 1902, 'various': 1903, 'characterized': 1904, 'fluently': 1905, 'immortality': 1906, 'revelations': 1907, 'instruction': 1908, 'banished': 1909, 'denounced': 1910, 'favorite': 1911, 'oath': 1912, 'mention': 1913, 'daemonium': 1914, 'phenomenon': 1915, 'peculiar': 1916, 'prominent': 1917, 'apply': 1918, 'ironically': 1919, 'unaccustomed': 1920, 'examples': 1921, 'embodies': 1922, 'concrete': 1923, 'cave': 1924, 'recapitulation': 1925, 'composite': 1926, 'ship': 1927, 'pilot': 1928, 'portionless': 1929, 'maiden': 1930, 'drones': 1931, 'wasps': 1932, 'links': 1933, 'recall': 1934, 'previous': 1935, 'discussions': 1936, 'paradoxes': 1937, 'upward': 1938, 'seemed': 1939, 'revolted': 1940, 'sterner': 1941, 'judgement': 1942, 'multitude': 1943, 'pity': 1944, 'misunderstanding': 1945, 'unavoidable': 1946, 'artificial': 1947, 'possessing': 1948, 'native': 1949, 'applications': 1950, 'stature': 1951, 'pitied': 1952, 'laughed': 1953, 'quarrelled': 1954, 'nostrums': 1955, 'cutting': 1956, 'hydras': 1957, 'features': 1958, 'differences': 1959, 'unwearied': 1960, 'disinterested': 1961, 'seeker': 1962, 'ceased': 1963, 'leaving': 1964, 'analyse': 1965, 'contents': 1966, 'goddess': 1967, 'piraeus': 1968, 'equestrian': 1969, 'recited': 1970, 'consisting': 1971, 'hermocrates': 1972, 'rhetorical': 1973, 'reciting': 1974, 'gained': 1975, 'distracted': 1976, 'reference': 1977, 'audience': 1978, 'extraordinary': 1979, 'informed': 1980, 'went': 1981, 'talked': 1982, 'arisen': 1983, 'leave': 1984, 'message': 1985, 'speedily': 1986, 'accompanied': 1987, 'playful': 1988, 'violence': 1989, 'compels': 1990, 'attraction': 1991, 'extreme': 1992, 'sitting': 1993, 'cushioned': 1994, 'seat': 1995, 'oftener': 1996, 'am': 1997, 'discontents': 1998, 'tempers': 1999, 'passions': 2000, 'themistocles': 2001, 'famous': 2002, 'poor': 2003, 'quality': 2004, 'ascribes': 2005, 'acquired': 2006, 'considers': 2007, 'chief': 2008, 'belief': 2009, 'poverty': 2010, 'unspeakable': 2011, 'blessings': 2012, 'evidently': 2013, 'gone': 2014, 'mad': 2015, 'sword': 2016, 'borrowed': 2017, 'bequeaths': 2018, 'facetiously': 2019, 'touched': 2020, 'keynote': 2021, 'suggesting': 2022, 'portrait': 2023, 'frontispiece': 2024, 'imply': 2025, 'perplexity': 2026, 'discerning': 2027, 'explanation': 2028, 'supported': 2029, 'resolution': 2030, 'unconnected': 2031, 'precepts': 2032, 'demands': 2033, 'arms': 2034, 'parties': 2035, 'meant': 2036, 'somebody': 2037, 'following': 2038, 'due': 2039, 'alliances': 2040, 'safely': 2041, 'opposites': 2042, 'defence': 2043, 'stealing': 2044, 'guarding': 2045, 'notwithstanding': 2046, 'autolycus': 2047, 'excellent': 2048, 'theft': 2049, 'perjury': 2050, 'thieving': 2051, 'interpreted': 2052, 'render': 2053, 'horsemanship': 2054, 'horsemen': 2055, 'heat': 2056, 'cold': 2057, 'sage': 2058, 'mighty': 2059, 'periander': 2060, 'perdiccas': 2061, 'ismenias': 2062, 'theban': 2063, 'aphoristic': 2064, 'unconscious': 2065, 'inadequate': 2066, 'winding': 2067, 'mazes': 2068, 'approach': 2069, 'precept': 2070, 'forgiveness': 2071, 'injuries': 2072, 'applied': 2073, 'persian': 2074, 'mystic': 2075, 'stirred': 2076, 'punishest': 2077, 'thee': 2078, 'kheyam': 2079, 'rise': 2080, 'substituted': 2081, 'gives': 2082, 'sufficient': 2083, 'plain': 2084, 'fall': 2085, 'precision': 2086, 'casuistry': 2087, 'attain': 2088, 'posterior': 2089, 'fundamental': 2090, 'erroneous': 2091, 'interrupt': 2092, 'hitherto': 2093, 'pause': 2094, 'rushes': 2095, 'arena': 2096, 'savage': 2097, 'roar': 2098, 'vanquished': 2099, 'pretended': 2100, 'prohibits': 2101, 'definitions': 2102, 'twelve': 2103, 'forbidden': 2104, 'reluctant': 2105, 'payment': 2106, 'polydamas': 2107, 'wrestler': 2108, 'indignant': 2109, 'restore': 2110, 'dignity': 2111, 'explains': 2112, 'saved': 2113, 'speedy': 2114, 'downfall': 2115, 'introduces': 2116, 'unmeaning': 2117, 'evasion': 2118, 'differ': 2119, 'accepted': 2120, 'significantly': 2121, 'insinuates': 2122, 'adversary': 2123, 'withdraw': 2124, 'affirms': 2125, 'infallible': 2126, 'accept': 2127, 'accidental': 2128, 'sway': 2129, 'brink': 2130, 'diversion': 2131, 'nurse': 2132, 'neglects': 2133, 'lets': 2134, 'drivelling': 2135, 'think': 2136, 'fatten': 2137, 'loser': 2138, 'gainer': 2139, 'grand': 2140, 'scale': 2141, 'petty': 2142, 'rogueries': 2143, 'swindlers': 2144, 'burglars': 2145, 'robbers': 2146, 'temples': 2147, 'gracious': 2148, 'blessed': 2149, 'tends': 2150, 'deluged': 2151, 'humble': 2152, 'earnest': 2153, 'request': 2154, 'desert': 2155, 'crisis': 2156, 'forbid': 2157, 'employ': 2158, 'exact': 2159, 'inexact': 2160, 'strictly': 2161, 'flocks': 2162, 'solely': 2163, 'actuated': 2164, 'doubt': 2165, 'identical': 2166, 'hope': 2167, 'entirely': 2168, 'affected': 2169, 'nolo': 2170, 'episcopari': 2171, 'satire': 2172, 'existing': 2173, 'heightened': 2174, 'incidental': 2175, 'governors': 2176, 'try': 2177, 'respective': 2178, 'gains': 2179, 'decide': 2180, 'admissions': 2181, 'hesitation': 2182, 'wish': 2183, 'opponents': 2184, 'weaving': 2185, 'enclosed': 2186, 'statement': 2187, 'employs': 2188, 'favourite': 2189, 'musician': 2190, 'doctor': 2191, 'random': 2192, 'bringing': 2193, 'hot': 2194, 'streaming': 2195, 'perspiration': 2196, 'blush': 2197, 'refuted': 2198, 'assistance': 2199, 'hopes': 2200, 'churlish': 2201, 'judicious': 2202, 'restored': 2203, 'goodhumour': 2204, 'thieves': 2205, 'divided': 2206, 'stand': 2207, 'detract': 2208, 'semiwickedness': 2209, 'flourishes': 2210, 'accomplished': 2211, 'kindness': 2212, 'scolding': 2213, 'fault': 2214, 'tasted': 2215, 'wisdom': 2216, 'comparative': 2217, 'sum': 2218, 'fabric': 2219, 'demolished': 2220, 'appealing': 2221, 'aiming': 2222, 'implement': 2223, 'workman': 2224, 'stumble': 2225, 'forgets': 2226, 'undistinguished': 2227, 'enquirers': 2228, 'helped': 2229, 'fill': 2230, 'void': 2231, 'comparison': 2232, 'perceived': 2233, 'fallacious': 2234, 'saw': 2235, 'statue': 2236, 'transferred': 2237, 'morals': 2238, 'cleared': 2239, 'perplexities': 2240, 'contemporaries': 2241, 'transition': 2242, 'fully': 2243, 'commonsense': 2244, 'production': 2245, 'nic': 2246, 'eth': 2247, 'constancy': 2248, 'absurdities': 2249, 'uses': 2250, 'intimation': 2251, 'reductio': 2252, 'absurdum': 2253, 'dissatisfaction': 2254, 'expresses': 2255, 'elsewhere': 2256, 'extend': 2257, 'flaw': 2258, 'inaccuracy': 2259, 'harmed': 2260, 'illtreated': 2261, 'wrapped': 2262, 'enigmatical': 2263, 'finite': 2264, 'peculiarly': 2265, 'sentiment': 2266, 'fitness': 2267, 'mathematical': 2268, 'mythological': 2269, 'envy': 2270, 'proportion': 2271, 'moralists': 2272, 'superlatives': 2273, 'workmen': 2274, 'strive': 2275, 'confound': 2276, 'skill': 2277, 'covetousness': 2278, 'fairer': 2279, 'musical': 2280, 'notes': 2281, 'conceiving': 2282, 'epilogue': 2283, 'argues': 2284, 'discord': 2285, 'dissolution': 2286, 'touching': 2287, 'negative': 2288, 'germ': 2289, 'directed': 2290, 'identity': 2291, 'intimated': 2292, 'reassumes': 2293, 'knownothing': 2294, 'conducted': 2295, 'concluded': 2296, 'tendency': 2297, 'dialectical': 2298, 'enlarge': 2299, 'widen': 2300, 'application': 2301, 'pacified': 2302, 'intrepid': 2303, 'dividing': 2304, 'troublesome': 2305, 'rejects': 2306, 'voice': 2307, 'charmer': 2308, 'proposes': 2309, 'dinning': 2310, 'ears': 2311, 'reasonableness': 2312, 'sufferers': 2313, 'doers': 2314, 'obliged': 2315, 'rings': 2316, 'gyges': 2317, 'wellknown': 2318, 'story': 2319, 'abstains': 2320, 'pains': 2321, 'laugh': 2322, 'gorgias': 2323, 'craft': 2324, 'seldom': 2325, 'mistakes': 2326, 'correcting': 2327, 'villain': 2328, 'bearing': 2329, 'nobleness': 2330, 'clothed': 2331, 'die': 2332, 'lived': 2333, 'panegyrists': 2334, 'scourged': 2335, 'racked': 2336, 'crucified': 2337, 'literally': 2338, 'impaled': 2339, 'preferred': 2340, 'clings': 2341, 'marry': 2342, 'hurt': 2343, 'loved': 2344, 'thinking': 2345, 'joined': 2346, 'unequal': 2347, 'fray': 2348, 'omitted': 2349, 'parents': 2350, 'incentive': 2351, 'promised': 2352, 'solid': 2353, 'wealthy': 2354, 'marriages': 2355, 'offices': 2356, 'pictures': 2357, 'fat': 2358, 'fleeces': 2359, 'cornfields': 2360, 'trees': 2361, 'toppling': 2362, 'fruit': 2363, 'provide': 2364, 'orphic': 2365, 'eumolpus': 2366, 'couches': 2367, 'garlands': 2368, 'heads': 2369, 'enjoying': 2370, 'meed': 2371, 'paradise': 2372, 'immortal': 2373, 'drunkenness': 2374, 'posterity': 2375, 'bury': 2376, 'slough': 2377, 'water': 2378, 'sieve': 2379, 'infamy': 2380, 'assuming': 2381, 'lot': 2382, 'honourable': 2383, 'difficult': 2384, 'prosperity': 2385, 'mendicant': 2386, 'knock': 2387, 'mens': 2388, 'doors': 2389, 'atone': 2390, 'sins': 2391, 'fashion': 2392, 'festive': 2393, 'games': 2394, 'charms': 2395, 'invocations': 2396, 'charge': 2397, 'professing': 2398, 'orpheus': 2399, 'cities': 2400, 'purgatory': 2401, 'happen': 2402, 'livelyminded': 2403, 'ingenuous': 2404, 'hears': 2405, 'tower': 2406, 'fortify': 2407, 'crooked': 2408, 'deceit': 2409, 'reflects': 2410, 'ruin': 2411, 'glorious': 2412, 'turn': 2413, 'trail': 2414, 'behind': 2415, 'fox': 2416, 'archilochus': 2417, 'concealed': 2418, 'prevail': 2419, 'acknowledge': 2420, 'appeased': 2421, 'indulgences': 2422, 'sinning': 2423, 'nay': 2424, 'atoning': 2425, 'matter': 2426, 'resist': 2427, 'favour': 2428, 'wise': 2429, 'worlds': 2430, 'miserable': 2431, 'caitiff': 2432, 'refrain': 2433, 'smiling': 2434, 'instructors': 2435, 'temporal': 2436, 'dispensation': 2437, 'profits': 2438, 'inherent': 2439, 'unseen': 2440, 'eye': 2441, 'strengthen': 2442, 'expect': 2443, 'exclude': 2444, 'superiority': 2445, 'maintained': 2446, 'converse': 2447, 'weaker': 2448, 'starting': 2449, 'premises': 2450, 'step': 2451, 'monarch': 2452, 'govern': 2453, 'ill': 2454, 'private': 2455, 'vices': 2456, 'benefits': 2457, 'plausibility': 2458, 'oscillates': 2459, 'motives': 2460, 'hypothesis': 2461, 'obligation': 2462, 'maintaining': 2463, 'questionable': 2464, 'strongly': 2465, 'instinct': 2466, 'expressed': 2467, 'accompaniment': 2468, 'alloy': 2469, 'generous': 2470, 'attended': 2471, 'selfinterest': 2472, 'foolish': 2473, 'clever': 2474, 'rogue': 2475, 'vague': 2476, 'corrected': 2477, 'capable': 2478, 'perversion': 2479, 'describe': 2480, 'feelings': 2481, 'average': 2482, 'simply': 2483, 'theory': 2484, 'counteracting': 2485, 'untruthful': 2486, 'disinterestedness': 2487, 'cynic': 2488, 'deal': 2489, 'bring': 2490, 'truer': 2491, 'kindlier': 2492, 'fellow': 2493, 'ordinarily': 2494, 'consist': 2495, 'serve': 2496, 'exercise': 2497, 'ennobling': 2498, 'none': 2499, 'humanity': 2500, 'deliberately': 2501, 'approves': 2502, 'utilitarian': 2503, 'moralist': 2504, 'prefer': 2505, 'agrees': 2506, 'expressing': 2507, 'dramatize': 2508, 'developing': 2509, 'series': 2510, 'positions': 2511, 'situations': 2512, 'exhibiting': 2513, 'undergoing': 2514, 'involves': 2515, 'associated': 2516, 'satisfaction': 2517, 'parallel': 2518, 'homage': 2519, 'pays': 2520, 'hint': 2521, 'conventional': 2522, 'feel': 2523, 'justifying': 2524, 'ways': 2525, 'recalls': 2526, 'condemnation': 2527, 'penetrate': 2528, 'objected': 2529, 'equivalent': 2530, 'wellbeing': 2531, 'viz': 2532, 'ordering': 2533, 'establish': 2534, 'purely': 2535, 'harmonise': 2536, 'theses': 2537, 'turning': 2538, 'cross': 2539, 'inconsistent': 2540, 'solution': 2541, 'developed': 2542, 'deserving': 2543, 'immediately': 2544, 'altogether': 2545, 'tempted': 2546, 'rack': 2547, 'dwells': 2548, 'restoring': 2549, 'comprehends': 2550, 'fanciful': 2551, 'amounts': 2552, 'favourable': 2553, 'exist': 2554, 'shelter': 2555, 'wall': 2556, 'esteemed': 2557, 'maintains': 2558, 'accident': 2559, 'attends': 2560, 'ye': 2561, 'remarked': 2562, 'preserves': 2563, 'genuine': 2564, 'reverse': 2565, 'struggles': 2566, 'assert': 2567, 'creed': 2568, 'constantly': 2569, 'tending': 2570, 'revert': 2571, 'recollection': 2572, 'identification': 2573, 'pervades': 2574, 'subtle': 2575, 'collective': 2576, 'danger': 2577, 'forgetting': 2578, 'united': 2579, 'elevate': 2580, 'lower': 2581, 'legislation': 2582, 'acting': 2583, 'offspring': 2584, 'renowned': 2585, 'elegiac': 2586, 'eloquently': 2587, 'behalf': 2588, 'uninfluenced': 2589, 'deserting': 2590, 'hour': 2591, 'weak': 2592, 'smaller': 2593, 'accordingly': 2594, 'construct': 2595, 'coat': 2596, 'needs': 2597, 'possibility': 2598, 'satisfying': 2599, 'spot': 2600, 'invent': 2601, 'inventor': 2602, 'husbandman': 2603, 'builder': 2604, 'weaver': 2605, 'cobbler': 2606, 'waits': 2607, 'hence': 2608, 'employments': 2609, 'wholesale': 2610, 'workers': 2611, 'makers': 2612, 'workmens': 2613, 'tools': 2614, 'husbandmen': 2615, 'exceeded': 2616, 'variety': 2617, 'attract': 2618, 'taste': 2619, 'purchasers': 2620, 'merchants': 2621, 'ships': 2622, 'market': 2623, 'trades': 2624, 'otherwise': 2625, 'buyers': 2626, 'sellers': 2627, 'meet': 2628, 'valuable': 2629, 'wasted': 2630, 'hired': 2631, 'servants': 2632, 'somewhere': 2633, 'intercourse': 2634, 'rustic': 2635, 'spend': 2636, 'days': 2637, 'houses': 2638, 'built': 2639, 'clothes': 2640, 'corn': 2641, 'meal': 2642, 'flour': 2643, 'drink': 2644, 'live': 2645, 'each': 2646, 'interposing': 2647, 'relish': 2648, 'salt': 2649, 'olives': 2650, 'cheese': 2651, 'vegetables': 2652, 'fruits': 2653, 'chestnuts': 2654, 'roast': 2655, 'fire': 2656, 'tis': 2657, 'comforts': 2658, 'sofas': 2659, 'tables': 2660, 'sauces': 2661, 'sweets': 2662, 'luxurious': 2663, 'sooner': 2664, 'conceivable': 2665, 'instrument': 2666, 'ornament': 2667, 'wanted': 2668, 'dancers': 2669, 'painters': 2670, 'sculptors': 2671, 'musicians': 2672, 'cooks': 2673, 'barbers': 2674, 'tirewomen': 2675, 'nurses': 2676, 'artists': 2677, 'swineherds': 2678, 'neatherds': 2679, 'physicians': 2680, 'cure': 2681, 'disorders': 2682, 'source': 2683, 'feed': 2684, 'superfluous': 2685, 'neighbours': 2686, 'land': 2687, 'ours': 2688, 'evils': 2689, 'require': 2690, 'addition': 2691, 'camp': 2692, 'converted': 2693, 'forgotten': 2694, 'military': 2695, 'duties': 2696, 'warlike': 2697, 'keen': 2698, 'scent': 2699, 'swift': 2700, 'foot': 2701, 'pursue': 2702, 'limb': 2703, 'fight': 2704, 'courage': 2705, 'spirited': 2706, 'bite': 2707, 'devour': 2708, 'fierceness': 2709, 'suggests': 2710, 'fierce': 2711, 'strangers': 2712, 'judges': 2713, 'beast': 2714, 'parent': 2715, 'watchdogs': 2716, 'learning': 2717, 'gymnastics': 2718, 'grains': 2719, 'bushel': 2720, 'impressible': 2721, 'unlearn': 2722, 'censorship': 2723, 'nursery': 2724, 'banishing': 2725, 'keeping': 2726, 'improper': 2727, 'uranus': 2728, 'saturn': 2729, 'spoken': 2730, 'mystery': 2731, 'eleusinian': 2732, 'pig': 2733, 'encouraged': 2734, 'beat': 2735, 'hearing': 2736, 'seeing': 2737, 'strife': 2738, 'binding': 2739, 'sending': 2740, 'flying': 2741, 'helping': 2742, 'her': 2743, 'mystical': 2744, 'legislators': 2745, 'bookmakers': 2746, 'lay': 2747, 'write': 2748, 'steward': 2749, 'casks': 2750, 'destinies': 2751, 'pandarus': 2752, 'break': 2753, 'treaty': 2754, 'caused': 2755, 'sufferings': 2756, 'niobe': 2757, 'pelops': 2758, 'trojan': 2759, 'wishes': 2760, 'destroy': 2761, 'punished': 2762, 'deed': 2763, 'suicidal': 2764, 'utter': 2765, 'variableness': 2766, 'noblest': 2767, 'liable': 2768, 'fairest': 2769, 'priestess': 2770, 'deities': 2771, 'prowl': 2772, 'strange': 2773, 'disguises': 2774, 'blasphemous': 2775, 'nonsense': 2776, 'mothers': 2777, 'manhood': 2778, 'suppressed': 2779, 'unchangeable': 2780, 'hate': 2781, 'innocent': 2782, 'theirs': 2783, 'deceives': 2784, 'accusation': 2785, 'aeschylus': 2786, 'clearness': 2787, 'increases': 2788, 'extends': 2789, 'retailers': 2790, 'sit': 2791, 'marketplace': 2792, 'steps': 2793, 'constructs': 2794, 'introducing': 2795, 'indulges': 2796, 'powerful': 2797, 'interpret': 2798, 'literal': 2799, 'matteroffact': 2800, 'lively': 2801, 'driedup': 2802, 'abstractions': 2803, 'treatises': 2804, 'scattered': 2805, 'population': 2806, 'adulteration': 2807, 'wills': 2808, 'bequests': 2809, 'eryxias': 2810, 'value': 2811, 'admirable': 2812, 'lucidity': 2813, 'economic': 2814, 'system': 2815, 'recognized': 2816, 'traders': 2817, 'quaintly': 2818, 'everywhere': 2819, 'keep': 2820, 'taverns': 2821, 'knew': 2822, 'pleasant': 2823, 'agreeable': 2824, 'disappointment': 2825, 'ministers': 2826, 'refined': 2827, 'afterthought': 2828, 'doctors': 2829, 'desirableness': 2830, 'impure': 2831, 'celebrated': 2832, 'startles': 2833, 'affirming': 2834, 'trained': 2835, 'develope': 2836, 'acknowledged': 2837, 'line': 2838, 'somewhat': 2839, 'differently': 2840, 'accommodations': 2841, 'communication': 2842, 'support': 2843, 'effect': 2844, 'dangerous': 2845, 'weapon': 2846, 'alone': 2847, 'objects': 2848, 'attached': 2849, 'narratives': 2850, 'began': 2851, 'suspect': 2852, 'documents': 2853, 'recorded': 2854, 'supernatural': 2855, 'protestant': 2856, 'catholic': 2857, 'inclined': 2858, 'identify': 2859, 'refused': 2860, 'believe': 2861, 'superhuman': 2862, 'accuracy': 2863, 'discernible': 2864, 'record': 2865, 'amongst': 2866, 'frequently': 2867, 'gathered': 2868, 'reflections': 2869, 'unimportant': 2870, 'disregarding': 2871, 'misstatements': 2872, 'traditions': 2873, 'tolerant': 2874, 'condemn': 2875, 'allegorical': 2876, 'theagenes': 2877, 'rhegium': 2878, 'rejected': 2879, 'civilization': 2880, 'altered': 2881, 'palpable': 2882, 'existed': 2883, 'tradition': 2884, 'customary': 2885, 'dwelling': 2886, 'offer': 2887, 'cock': 2888, 'aesculapius': 2889, 'prayers': 2890, 'rising': 2891, 'antagonism': 2892, 'educated': 2893, 'uneducated': 2894, 'royal': 2895, 'heracles': 2896, 'knighterrant': 2897, 'benefactor': 2898, 'wonderful': 2899, 'transformations': 2900, 'effected': 2901, 'ingenuity': 2902, 'stoics': 2903, 'neoplatonists': 2904, 'centuries': 2905, 'roman': 2906, 'permeated': 2907, 'resolved': 2908, 'purer': 2909, 'decay': 2910, 'waning': 2911, 'singular': 2912, 'occurs': 2913, 'connected': 2914, 'involuntary': 2915, 'ignorance': 2916, 'voluntary': 2917, 'delivering': 2918, 'deluding': 2919, 'sensation': 2920, 'becoming': 2921, 'hateful': 2922, 'unconsciousness': 2923, 'untruth': 2924, 'gospels': 2925, 'blind': 2926, 'aspect': 2927, 'describing': 2928, 'holy': 2929, 'luke': 2930, 'allowing': 2931, 'modes': 2932, 'accommodation': 2933, 'answering': 2934, 'deceiving': 2935, 'contrasting': 2936, 'appearing': 2937, 'reserving': 2938, 'approval': 2939, 'traditional': 2940, 'contemptuous': 2941, 'euphemistic': 2942, 'alludes': 2943, 'chronique': 2944, 'scandaleuse': 2945, 'purifying': 2946, 'banish': 2947, 'courageous': 2948, 'gently': 2949, 'requested': 2950, 'abuse': 2951, 'hell': 2952, 'discouraging': 2953, 'expunge': 2954, 'obnoxious': 2955, 'depressing': 2956, 'servingman': 2957, 'squalid': 2958, 'mansions': 2959, 'senseless': 2960, 'shadows': 2961, 'flitting': 2962, 'mourning': 2963, 'gibber': 2964, 'beneath': 2965, 'smoke': 2966, 'suitors': 2967, 'flutter': 2968, 'bats': 2969, 'terrors': 2970, 'horrors': 2971, 'cocytus': 2972, 'styx': 2973, 'ghosts': 2974, 'sapless': 2975, 'shades': 2976, 'tartarean': 2977, 'nomenclature': 2978, 'vanish': 2979, 'soldiers': 2980, 'sympathies': 2981, 'tears': 2982, 'throwing': 2983, 'ashes': 2984, 'pacing': 2985, 'seashore': 2986, 'distraction': 2987, 'priam': 2988, 'cousin': 2989, 'crying': 2990, 'aloud': 2991, 'rolling': 2992, 'mire': 2993, 'prostrated': 2994, 'loss': 2995, 'fortune': 2996, 'terrible': 2997, 'lamentations': 2998, 'practised': 2999, 'attribution': 3000, 'goddesses': 3001, 'alas': 3002, 'travail': 3003, 'laments': 3004, 'inability': 3005, 'impending': 3006, 'doom': 3007, 'dear': 3008, 'sarpedon': 3009, 'ridiculed': 3010, 'imitated': 3011, 'laughter': 3012, 'delights': 3013, 'reaction': 3014, 'shaking': 3015, 'sides': 3016, 'clumsiness': 3017, 'medicine': 3018, 'employment': 3019, 'privilege': 3020, 'patient': 3021, 'sailor': 3022, 'temperate': 3023, 'temperance': 3024, 'marched': 3025, 'breathing': 3026, 'prowess': 3027, 'silent': 3028, 'awe': 3029, 'o': 3030, 'heart': 3031, 'stag': 3032, 'impress': 3033, 'drinking': 3034, 'dread': 3035, 'starvation': 3036, 'tells': 3037, 'rapturous': 3038, 'loves': 3039, 'ares': 3040, 'aphrodite': 3041, 'occasion': 3042, 'nobler': 3043, 'endure': 3044, 'endured': 3045, 'receive': 3046, 'bribes': 3047, 'persuade': 3048, 'reverend': 3049, 'applaud': 3050, 'ignoble': 3051, 'advice': 3052, 'phoenix': 3053, 'assisted': 3054, 'ransom': 3055, 'cursing': 3056, 'scamander': 3057, 'dedication': 3058, 'patroclus': 3059, 'hair': 3060, 'dedicated': 3061, 'spercheius': 3062, 'dragging': 3063, 'round': 3064, 'walls': 3065, 'slaying': 3066, 'captives': 3067, 'pyre': 3068, 'combination': 3069, 'cheirons': 3070, 'pupil': 3071, 'inconceivable': 3072, 'amatory': 3073, 'exploits': 3074, 'peirithous': 3075, 'theseus': 3076, 'unworthy': 3077, 'socalled': 3078, 'blood': 3079, 'flowing': 3080, 'veins': 3081, 'imitate': 3082, 'storytellers': 3083, 'prosper': 3084, 'misrepresentations': 3085, 'anticipating': 3086, 'defer': 3087, 'sufficiently': 3088, 'imitative': 3089, 'instance': 3090, 'throw': 3091, 'oratio': 3092, 'obliqua': 3093, 'priest': 3094, 'prayed': 3095, 'safe': 3096, 'daughter': 3097, 'assented': 3098, 'wroth': 3099, 'descriptive': 3100, 'speaker': 3101, 'omit': 3102, 'styles': 3103, 'doubtful': 3104, 'imitators': 3105, 'decided': 3106, 'license': 3107, 'reuse': 3108, 'rhapsodist': 3109, 'actor': 3110, 'copy': 3111, 'whatsoever': 3112, 'restrictions': 3113, 'coined': 3114, 'pieces': 3115, 'cost': 3116, 'anywhere': 3117}\n"
     ]
    }
   ],
   "source": [
    "# vocabulary size\n",
    "vocab_size = len(tokenizer.word_index) + 1\n",
    "print(tokenizer.word_index)"
   ]
  },
  {
   "cell_type": "code",
   "execution_count": 34,
   "metadata": {},
   "outputs": [],
   "source": [
    "def one_hot(word, word_index):\n",
    "    encoded = np.zeros(len(word_index) + 1)\n",
    "    try:\n",
    "        i = word_index[word]\n",
    "    except KeyError:\n",
    "        i = len(encoded) - 1\n",
    "    encoded[i] = 1\n",
    "    return encoded"
   ]
  },
  {
   "cell_type": "code",
   "execution_count": 35,
   "metadata": {},
   "outputs": [],
   "source": [
    "#### seq_one_hot = np.array([[one_hot(word, tokenizer.word_index) for word in sequence] for sequence in sequences])"
   ]
  },
  {
   "cell_type": "code",
   "execution_count": 36,
   "metadata": {},
   "outputs": [],
   "source": [
    "#### seq_one_hot[0].shape"
   ]
  },
  {
   "cell_type": "code",
   "execution_count": 38,
   "metadata": {
    "scrolled": true
   },
   "outputs": [
    {
     "name": "stdout",
     "output_type": "stream",
     "text": [
      "(17537, 51)\n",
      "[   1 1302 1300  610    2    1   65   14   33   26  610    5   19    1\n",
      "  137    2 1304 3117   22   58 3116    3   21  818   58 3113 3112   55\n",
      "   39 3111   82  318   82  455    8 3108   82  157    1  454    2    1\n",
      " 1302 1300 3107 1301   21   26  610    8 1306]\n"
     ]
    }
   ],
   "source": [
    "# separate into input and output\n",
    "sequences = array(sequences)\n",
    "print(sequences.shape)\n",
    "print(sequences[0])\n",
    "X, y = sequences[:,:-1], sequences[:,-1]\n",
    "####X, y = seq_one_hot[:,:-1,:], seq_one_hot[:,-1,:]\n",
    "y = to_categorical(y, num_classes=vocab_size)\n",
    "seq_length = X.shape[1]"
   ]
  },
  {
   "cell_type": "code",
   "execution_count": 39,
   "metadata": {},
   "outputs": [
    {
     "name": "stdout",
     "output_type": "stream",
     "text": [
      "_________________________________________________________________\n",
      "Layer (type)                 Output Shape              Param #   \n",
      "=================================================================\n",
      "embedding_1 (Embedding)      (None, 50, 50)            155900    \n",
      "_________________________________________________________________\n",
      "lstm_1 (LSTM)                (None, 50, 100)           60400     \n",
      "_________________________________________________________________\n",
      "lstm_2 (LSTM)                (None, 100)               80400     \n",
      "_________________________________________________________________\n",
      "dense_1 (Dense)              (None, 100)               10100     \n",
      "_________________________________________________________________\n",
      "dense_2 (Dense)              (None, 3118)              314918    \n",
      "=================================================================\n",
      "Total params: 621,718\n",
      "Trainable params: 621,718\n",
      "Non-trainable params: 0\n",
      "_________________________________________________________________\n",
      "None\n"
     ]
    }
   ],
   "source": [
    "# define model\n",
    "model = Sequential()\n",
    "model.add(Embedding(vocab_size, 50, input_length=seq_length))\n",
    "model.add(LSTM(100, return_sequences=True))\n",
    "#model.add(LSTM(100, input_shape=(50,125), return_sequences=True))\n",
    "model.add(LSTM(100))\n",
    "model.add(Dense(100, activation='relu'))\n",
    "model.add(Dense(vocab_size, activation='softmax'))\n",
    "print(model.summary())"
   ]
  },
  {
   "cell_type": "code",
   "execution_count": 40,
   "metadata": {},
   "outputs": [
    {
     "name": "stdout",
     "output_type": "stream",
     "text": [
      "Epoch 1/100\n",
      "17537/17537 [==============================] - 25s 1ms/step - loss: 6.5578 - acc: 0.0805\n",
      "Epoch 2/100\n",
      "17537/17537 [==============================] - 22s 1ms/step - loss: 6.1002 - acc: 0.0875\n",
      "Epoch 3/100\n",
      "17537/17537 [==============================] - 22s 1ms/step - loss: 5.9534 - acc: 0.0920\n",
      "Epoch 4/100\n",
      "17537/17537 [==============================] - 23s 1ms/step - loss: 5.8236 - acc: 0.1211\n",
      "Epoch 5/100\n",
      "17537/17537 [==============================] - 22s 1ms/step - loss: 5.6960 - acc: 0.1272\n",
      "Epoch 6/100\n",
      "17537/17537 [==============================] - 22s 1ms/step - loss: 5.5849 - acc: 0.1359\n",
      "Epoch 7/100\n",
      "17537/17537 [==============================] - 21s 1ms/step - loss: 5.5059 - acc: 0.1400\n",
      "Epoch 8/100\n",
      "17537/17537 [==============================] - 21s 1ms/step - loss: 5.4501 - acc: 0.1442\n",
      "Epoch 9/100\n",
      "17537/17537 [==============================] - 22s 1ms/step - loss: 5.4053 - acc: 0.1440\n",
      "Epoch 10/100\n",
      "17537/17537 [==============================] - 21s 1ms/step - loss: 5.3438 - acc: 0.1472\n",
      "Epoch 11/100\n",
      "17537/17537 [==============================] - 22s 1ms/step - loss: 5.3038 - acc: 0.1498\n",
      "Epoch 12/100\n",
      " 4352/17537 [======>.......................] - ETA: 15s - loss: 5.1941 - acc: 0.1510"
     ]
    },
    {
     "ename": "KeyboardInterrupt",
     "evalue": "",
     "output_type": "error",
     "traceback": [
      "\u001b[1;31m---------------------------------------------------------------------------\u001b[0m",
      "\u001b[1;31mKeyboardInterrupt\u001b[0m                         Traceback (most recent call last)",
      "\u001b[1;32m<ipython-input-40-666f5ad1161d>\u001b[0m in \u001b[0;36m<module>\u001b[1;34m\u001b[0m\n\u001b[0;32m      2\u001b[0m \u001b[0mmodel\u001b[0m\u001b[1;33m.\u001b[0m\u001b[0mcompile\u001b[0m\u001b[1;33m(\u001b[0m\u001b[0mloss\u001b[0m\u001b[1;33m=\u001b[0m\u001b[1;34m'categorical_crossentropy'\u001b[0m\u001b[1;33m,\u001b[0m \u001b[0moptimizer\u001b[0m\u001b[1;33m=\u001b[0m\u001b[1;34m'adam'\u001b[0m\u001b[1;33m,\u001b[0m \u001b[0mmetrics\u001b[0m\u001b[1;33m=\u001b[0m\u001b[1;33m[\u001b[0m\u001b[1;34m'accuracy'\u001b[0m\u001b[1;33m]\u001b[0m\u001b[1;33m)\u001b[0m\u001b[1;33m\u001b[0m\u001b[0m\n\u001b[0;32m      3\u001b[0m \u001b[1;31m# fit model\u001b[0m\u001b[1;33m\u001b[0m\u001b[1;33m\u001b[0m\u001b[0m\n\u001b[1;32m----> 4\u001b[1;33m \u001b[0mmodel\u001b[0m\u001b[1;33m.\u001b[0m\u001b[0mfit\u001b[0m\u001b[1;33m(\u001b[0m\u001b[0mX\u001b[0m\u001b[1;33m,\u001b[0m \u001b[0my\u001b[0m\u001b[1;33m,\u001b[0m \u001b[0mbatch_size\u001b[0m\u001b[1;33m=\u001b[0m\u001b[1;36m128\u001b[0m\u001b[1;33m,\u001b[0m \u001b[0mepochs\u001b[0m\u001b[1;33m=\u001b[0m\u001b[1;36m100\u001b[0m\u001b[1;33m)\u001b[0m\u001b[1;33m\u001b[0m\u001b[0m\n\u001b[0m\u001b[0;32m      5\u001b[0m \u001b[1;33m\u001b[0m\u001b[0m\n\u001b[0;32m      6\u001b[0m \u001b[1;31m# save the model to file\u001b[0m\u001b[1;33m\u001b[0m\u001b[1;33m\u001b[0m\u001b[0m\n",
      "\u001b[1;32mc:\\users\\aashish agarwal\\appdata\\local\\programs\\python\\python36\\lib\\site-packages\\keras\\engine\\training.py\u001b[0m in \u001b[0;36mfit\u001b[1;34m(self, x, y, batch_size, epochs, verbose, callbacks, validation_split, validation_data, shuffle, class_weight, sample_weight, initial_epoch, steps_per_epoch, validation_steps, **kwargs)\u001b[0m\n\u001b[0;32m   1037\u001b[0m                                         \u001b[0minitial_epoch\u001b[0m\u001b[1;33m=\u001b[0m\u001b[0minitial_epoch\u001b[0m\u001b[1;33m,\u001b[0m\u001b[1;33m\u001b[0m\u001b[0m\n\u001b[0;32m   1038\u001b[0m                                         \u001b[0msteps_per_epoch\u001b[0m\u001b[1;33m=\u001b[0m\u001b[0msteps_per_epoch\u001b[0m\u001b[1;33m,\u001b[0m\u001b[1;33m\u001b[0m\u001b[0m\n\u001b[1;32m-> 1039\u001b[1;33m                                         validation_steps=validation_steps)\n\u001b[0m\u001b[0;32m   1040\u001b[0m \u001b[1;33m\u001b[0m\u001b[0m\n\u001b[0;32m   1041\u001b[0m     def evaluate(self, x=None, y=None,\n",
      "\u001b[1;32mc:\\users\\aashish agarwal\\appdata\\local\\programs\\python\\python36\\lib\\site-packages\\keras\\engine\\training_arrays.py\u001b[0m in \u001b[0;36mfit_loop\u001b[1;34m(model, f, ins, out_labels, batch_size, epochs, verbose, callbacks, val_f, val_ins, shuffle, callback_metrics, initial_epoch, steps_per_epoch, validation_steps)\u001b[0m\n\u001b[0;32m    197\u001b[0m                     \u001b[0mins_batch\u001b[0m\u001b[1;33m[\u001b[0m\u001b[0mi\u001b[0m\u001b[1;33m]\u001b[0m \u001b[1;33m=\u001b[0m \u001b[0mins_batch\u001b[0m\u001b[1;33m[\u001b[0m\u001b[0mi\u001b[0m\u001b[1;33m]\u001b[0m\u001b[1;33m.\u001b[0m\u001b[0mtoarray\u001b[0m\u001b[1;33m(\u001b[0m\u001b[1;33m)\u001b[0m\u001b[1;33m\u001b[0m\u001b[0m\n\u001b[0;32m    198\u001b[0m \u001b[1;33m\u001b[0m\u001b[0m\n\u001b[1;32m--> 199\u001b[1;33m                 \u001b[0mouts\u001b[0m \u001b[1;33m=\u001b[0m \u001b[0mf\u001b[0m\u001b[1;33m(\u001b[0m\u001b[0mins_batch\u001b[0m\u001b[1;33m)\u001b[0m\u001b[1;33m\u001b[0m\u001b[0m\n\u001b[0m\u001b[0;32m    200\u001b[0m                 \u001b[0mouts\u001b[0m \u001b[1;33m=\u001b[0m \u001b[0mto_list\u001b[0m\u001b[1;33m(\u001b[0m\u001b[0mouts\u001b[0m\u001b[1;33m)\u001b[0m\u001b[1;33m\u001b[0m\u001b[0m\n\u001b[0;32m    201\u001b[0m                 \u001b[1;32mfor\u001b[0m \u001b[0ml\u001b[0m\u001b[1;33m,\u001b[0m \u001b[0mo\u001b[0m \u001b[1;32min\u001b[0m \u001b[0mzip\u001b[0m\u001b[1;33m(\u001b[0m\u001b[0mout_labels\u001b[0m\u001b[1;33m,\u001b[0m \u001b[0mouts\u001b[0m\u001b[1;33m)\u001b[0m\u001b[1;33m:\u001b[0m\u001b[1;33m\u001b[0m\u001b[0m\n",
      "\u001b[1;32mc:\\users\\aashish agarwal\\appdata\\local\\programs\\python\\python36\\lib\\site-packages\\keras\\backend\\tensorflow_backend.py\u001b[0m in \u001b[0;36m__call__\u001b[1;34m(self, inputs)\u001b[0m\n\u001b[0;32m   2713\u001b[0m                 \u001b[1;32mreturn\u001b[0m \u001b[0mself\u001b[0m\u001b[1;33m.\u001b[0m\u001b[0m_legacy_call\u001b[0m\u001b[1;33m(\u001b[0m\u001b[0minputs\u001b[0m\u001b[1;33m)\u001b[0m\u001b[1;33m\u001b[0m\u001b[0m\n\u001b[0;32m   2714\u001b[0m \u001b[1;33m\u001b[0m\u001b[0m\n\u001b[1;32m-> 2715\u001b[1;33m             \u001b[1;32mreturn\u001b[0m \u001b[0mself\u001b[0m\u001b[1;33m.\u001b[0m\u001b[0m_call\u001b[0m\u001b[1;33m(\u001b[0m\u001b[0minputs\u001b[0m\u001b[1;33m)\u001b[0m\u001b[1;33m\u001b[0m\u001b[0m\n\u001b[0m\u001b[0;32m   2716\u001b[0m         \u001b[1;32melse\u001b[0m\u001b[1;33m:\u001b[0m\u001b[1;33m\u001b[0m\u001b[0m\n\u001b[0;32m   2717\u001b[0m             \u001b[1;32mif\u001b[0m \u001b[0mpy_any\u001b[0m\u001b[1;33m(\u001b[0m\u001b[0mis_tensor\u001b[0m\u001b[1;33m(\u001b[0m\u001b[0mx\u001b[0m\u001b[1;33m)\u001b[0m \u001b[1;32mfor\u001b[0m \u001b[0mx\u001b[0m \u001b[1;32min\u001b[0m \u001b[0minputs\u001b[0m\u001b[1;33m)\u001b[0m\u001b[1;33m:\u001b[0m\u001b[1;33m\u001b[0m\u001b[0m\n",
      "\u001b[1;32mc:\\users\\aashish agarwal\\appdata\\local\\programs\\python\\python36\\lib\\site-packages\\keras\\backend\\tensorflow_backend.py\u001b[0m in \u001b[0;36m_call\u001b[1;34m(self, inputs)\u001b[0m\n\u001b[0;32m   2673\u001b[0m             \u001b[0mfetched\u001b[0m \u001b[1;33m=\u001b[0m \u001b[0mself\u001b[0m\u001b[1;33m.\u001b[0m\u001b[0m_callable_fn\u001b[0m\u001b[1;33m(\u001b[0m\u001b[1;33m*\u001b[0m\u001b[0marray_vals\u001b[0m\u001b[1;33m,\u001b[0m \u001b[0mrun_metadata\u001b[0m\u001b[1;33m=\u001b[0m\u001b[0mself\u001b[0m\u001b[1;33m.\u001b[0m\u001b[0mrun_metadata\u001b[0m\u001b[1;33m)\u001b[0m\u001b[1;33m\u001b[0m\u001b[0m\n\u001b[0;32m   2674\u001b[0m         \u001b[1;32melse\u001b[0m\u001b[1;33m:\u001b[0m\u001b[1;33m\u001b[0m\u001b[0m\n\u001b[1;32m-> 2675\u001b[1;33m             \u001b[0mfetched\u001b[0m \u001b[1;33m=\u001b[0m \u001b[0mself\u001b[0m\u001b[1;33m.\u001b[0m\u001b[0m_callable_fn\u001b[0m\u001b[1;33m(\u001b[0m\u001b[1;33m*\u001b[0m\u001b[0marray_vals\u001b[0m\u001b[1;33m)\u001b[0m\u001b[1;33m\u001b[0m\u001b[0m\n\u001b[0m\u001b[0;32m   2676\u001b[0m         \u001b[1;32mreturn\u001b[0m \u001b[0mfetched\u001b[0m\u001b[1;33m[\u001b[0m\u001b[1;33m:\u001b[0m\u001b[0mlen\u001b[0m\u001b[1;33m(\u001b[0m\u001b[0mself\u001b[0m\u001b[1;33m.\u001b[0m\u001b[0moutputs\u001b[0m\u001b[1;33m)\u001b[0m\u001b[1;33m]\u001b[0m\u001b[1;33m\u001b[0m\u001b[0m\n\u001b[0;32m   2677\u001b[0m \u001b[1;33m\u001b[0m\u001b[0m\n",
      "\u001b[1;32mc:\\users\\aashish agarwal\\appdata\\local\\programs\\python\\python36\\lib\\site-packages\\tensorflow\\python\\client\\session.py\u001b[0m in \u001b[0;36m__call__\u001b[1;34m(self, *args, **kwargs)\u001b[0m\n\u001b[0;32m   1437\u001b[0m           ret = tf_session.TF_SessionRunCallable(\n\u001b[0;32m   1438\u001b[0m               \u001b[0mself\u001b[0m\u001b[1;33m.\u001b[0m\u001b[0m_session\u001b[0m\u001b[1;33m.\u001b[0m\u001b[0m_session\u001b[0m\u001b[1;33m,\u001b[0m \u001b[0mself\u001b[0m\u001b[1;33m.\u001b[0m\u001b[0m_handle\u001b[0m\u001b[1;33m,\u001b[0m \u001b[0margs\u001b[0m\u001b[1;33m,\u001b[0m \u001b[0mstatus\u001b[0m\u001b[1;33m,\u001b[0m\u001b[1;33m\u001b[0m\u001b[0m\n\u001b[1;32m-> 1439\u001b[1;33m               run_metadata_ptr)\n\u001b[0m\u001b[0;32m   1440\u001b[0m         \u001b[1;32mif\u001b[0m \u001b[0mrun_metadata\u001b[0m\u001b[1;33m:\u001b[0m\u001b[1;33m\u001b[0m\u001b[0m\n\u001b[0;32m   1441\u001b[0m           \u001b[0mproto_data\u001b[0m \u001b[1;33m=\u001b[0m \u001b[0mtf_session\u001b[0m\u001b[1;33m.\u001b[0m\u001b[0mTF_GetBuffer\u001b[0m\u001b[1;33m(\u001b[0m\u001b[0mrun_metadata_ptr\u001b[0m\u001b[1;33m)\u001b[0m\u001b[1;33m\u001b[0m\u001b[0m\n",
      "\u001b[1;31mKeyboardInterrupt\u001b[0m: "
     ]
    }
   ],
   "source": [
    "# compile model\n",
    "model.compile(loss='categorical_crossentropy', optimizer='adam', metrics=['accuracy'])\n",
    "# fit model\n",
    "model.fit(X, y, batch_size=128, epochs=100)\n",
    "\n",
    "# save the model to file\n",
    "model.save('model.h5')\n",
    "# save the tokenizer\n",
    "dump(tokenizer, open('tokenizer.pkl', 'wb'))"
   ]
  },
  {
   "cell_type": "code",
   "execution_count": 141,
   "metadata": {
    "scrolled": true
   },
   "outputs": [
    {
     "name": "stdout",
     "output_type": "stream",
     "text": [
      "_________________________________________________________________\n",
      "Layer (type)                 Output Shape              Param #   \n",
      "=================================================================\n",
      "embedding_3 (Embedding)      (None, 50, 50)            6250      \n",
      "_________________________________________________________________\n",
      "lstm_9 (LSTM)                (None, 50, 100)           60400     \n",
      "_________________________________________________________________\n",
      "lstm_10 (LSTM)               (None, 100)               80400     \n",
      "_________________________________________________________________\n",
      "dense_9 (Dense)              (None, 100)               10100     \n",
      "_________________________________________________________________\n",
      "dense_10 (Dense)             (None, 125)               12625     \n",
      "=================================================================\n",
      "Total params: 169,775\n",
      "Trainable params: 169,775\n",
      "Non-trainable params: 0\n",
      "_________________________________________________________________\n",
      "None\n"
     ]
    }
   ],
   "source": [
    "print(model.summary())"
   ]
  },
  {
   "cell_type": "code",
   "execution_count": 41,
   "metadata": {},
   "outputs": [],
   "source": [
    "# generate a sequence from a language model\n",
    "def generate_seq(model, tokenizer, seq_length, seed_text, n_words):\n",
    "\tresult = list()\n",
    "\tin_text = seed_text\n",
    "\t# generate a fixed number of words\n",
    "\tfor _ in range(n_words):\n",
    "\t\t# encode the text as integer\n",
    "\t\tencoded = tokenizer.texts_to_sequences([in_text])[0]\n",
    "\t\t# truncate sequences to a fixed length\n",
    "\t\tencoded = pad_sequences([encoded], maxlen=seq_length, truncating='pre')\n",
    "\t\t# predict probabilities for each word\n",
    "\t\tyhat = model.predict_classes(encoded, verbose=0)\n",
    "\t\t# map predicted word index to word\n",
    "\t\tout_word = ''\n",
    "\t\tfor word, index in tokenizer.word_index.items():\n",
    "\t\t\tif index == yhat:\n",
    "\t\t\t\tout_word = word\n",
    "\t\t\t\tbreak\n",
    "\t\t# append to input\n",
    "\t\tin_text += ' ' + out_word\n",
    "\t\tresult.append(out_word)\n",
    "\treturn ' '.join(result)"
   ]
  },
  {
   "cell_type": "code",
   "execution_count": 42,
   "metadata": {},
   "outputs": [],
   "source": [
    "# load cleaned text sequences\n",
    "in_filename = 'C:/Users/Aashish Agarwal/Desktop/test.txt'\n",
    "doc = load_doc(in_filename)\n",
    "lines = doc.split('\\n')\n",
    "seq_length = len(lines[0].split()) - 1"
   ]
  },
  {
   "cell_type": "code",
   "execution_count": 43,
   "metadata": {},
   "outputs": [],
   "source": [
    "# load the model\n",
    "from keras.models import load_model\n",
    "model = load_model('model.h5')"
   ]
  },
  {
   "cell_type": "code",
   "execution_count": 44,
   "metadata": {},
   "outputs": [],
   "source": [
    "# load the tokenizer\n",
    "from random import randint\n",
    "from pickle import load\n",
    "tokenizer = load(open('tokenizer.pkl', 'rb'))"
   ]
  },
  {
   "cell_type": "code",
   "execution_count": 49,
   "metadata": {},
   "outputs": [
    {
     "name": "stdout",
     "output_type": "stream",
     "text": [
      "words are strictly taken, the ruler and the shepherd look only to the\n",
      "\n"
     ]
    }
   ],
   "source": [
    "# select a seed text\n",
    "seed_text = lines[randint(0,len(lines))]\n",
    "#####seed_text = \"Apart from counting words and characters, our online editor can help you to improve word choice and writing style, and, optionally, help you to detect grammar mistakes and plagiarism. To check word count, simply place your cursor into the text box above and start typing. You'll see the number of\"\n",
    "print(seed_text + '\\n')"
   ]
  },
  {
   "cell_type": "code",
   "execution_count": 50,
   "metadata": {},
   "outputs": [
    {
     "name": "stdout",
     "output_type": "stream",
     "text": [
      "are are your already already already already are are are are are far far far wrong you you you you you you you you you you you will will will certainly certainly certainly glaucon glaucon glaucon and and appeared appeared polemarchus and and and and and and adeimantus adeimantus adeimantus\n"
     ]
    }
   ],
   "source": [
    "# generate new text\n",
    "from keras.preprocessing.sequence import pad_sequences\n",
    "generated = generate_seq(model, tokenizer, 50, seed_text, 50)\n",
    "print(generated)"
   ]
  },
  {
   "cell_type": "code",
   "execution_count": null,
   "metadata": {},
   "outputs": [],
   "source": []
  },
  {
   "cell_type": "code",
   "execution_count": null,
   "metadata": {},
   "outputs": [],
   "source": []
  },
  {
   "cell_type": "code",
   "execution_count": 116,
   "metadata": {},
   "outputs": [],
   "source": [
    "pred = model.predict(seq_one_hot[:1,:-1,:], 1)"
   ]
  },
  {
   "cell_type": "code",
   "execution_count": 125,
   "metadata": {},
   "outputs": [
    {
     "ename": "ValueError",
     "evalue": "Error when checking input: expected lstm_3_input to have 3 dimensions, but got array with shape (125, 1)",
     "output_type": "error",
     "traceback": [
      "\u001b[1;31m---------------------------------------------------------------------------\u001b[0m",
      "\u001b[1;31mValueError\u001b[0m                                Traceback (most recent call last)",
      "\u001b[1;32m<ipython-input-125-f0b0469318e0>\u001b[0m in \u001b[0;36m<module>\u001b[1;34m\u001b[0m\n\u001b[1;32m----> 1\u001b[1;33m \u001b[0mmodel\u001b[0m\u001b[1;33m.\u001b[0m\u001b[0mpredict\u001b[0m\u001b[1;33m(\u001b[0m\u001b[1;33m[\u001b[0m\u001b[0mone_hot\u001b[0m\u001b[1;33m(\u001b[0m\u001b[1;34m'dog'\u001b[0m\u001b[1;33m,\u001b[0m \u001b[0mtokenizer\u001b[0m\u001b[1;33m.\u001b[0m\u001b[0mword_index\u001b[0m\u001b[1;33m)\u001b[0m\u001b[1;33m]\u001b[0m\u001b[1;33m,\u001b[0m \u001b[1;36m1\u001b[0m\u001b[1;33m)\u001b[0m\u001b[1;33m\u001b[0m\u001b[0m\n\u001b[0m",
      "\u001b[1;32mc:\\users\\aashish agarwal\\appdata\\local\\programs\\python\\python36\\lib\\site-packages\\keras\\engine\\training.py\u001b[0m in \u001b[0;36mpredict\u001b[1;34m(self, x, batch_size, verbose, steps)\u001b[0m\n\u001b[0;32m   1147\u001b[0m                              'argument.')\n\u001b[0;32m   1148\u001b[0m         \u001b[1;31m# Validate user data.\u001b[0m\u001b[1;33m\u001b[0m\u001b[1;33m\u001b[0m\u001b[0m\n\u001b[1;32m-> 1149\u001b[1;33m         \u001b[0mx\u001b[0m\u001b[1;33m,\u001b[0m \u001b[0m_\u001b[0m\u001b[1;33m,\u001b[0m \u001b[0m_\u001b[0m \u001b[1;33m=\u001b[0m \u001b[0mself\u001b[0m\u001b[1;33m.\u001b[0m\u001b[0m_standardize_user_data\u001b[0m\u001b[1;33m(\u001b[0m\u001b[0mx\u001b[0m\u001b[1;33m)\u001b[0m\u001b[1;33m\u001b[0m\u001b[0m\n\u001b[0m\u001b[0;32m   1150\u001b[0m         \u001b[1;32mif\u001b[0m \u001b[0mself\u001b[0m\u001b[1;33m.\u001b[0m\u001b[0mstateful\u001b[0m\u001b[1;33m:\u001b[0m\u001b[1;33m\u001b[0m\u001b[0m\n\u001b[0;32m   1151\u001b[0m             \u001b[1;32mif\u001b[0m \u001b[0mx\u001b[0m\u001b[1;33m[\u001b[0m\u001b[1;36m0\u001b[0m\u001b[1;33m]\u001b[0m\u001b[1;33m.\u001b[0m\u001b[0mshape\u001b[0m\u001b[1;33m[\u001b[0m\u001b[1;36m0\u001b[0m\u001b[1;33m]\u001b[0m \u001b[1;33m>\u001b[0m \u001b[0mbatch_size\u001b[0m \u001b[1;32mand\u001b[0m \u001b[0mx\u001b[0m\u001b[1;33m[\u001b[0m\u001b[1;36m0\u001b[0m\u001b[1;33m]\u001b[0m\u001b[1;33m.\u001b[0m\u001b[0mshape\u001b[0m\u001b[1;33m[\u001b[0m\u001b[1;36m0\u001b[0m\u001b[1;33m]\u001b[0m \u001b[1;33m%\u001b[0m \u001b[0mbatch_size\u001b[0m \u001b[1;33m!=\u001b[0m \u001b[1;36m0\u001b[0m\u001b[1;33m:\u001b[0m\u001b[1;33m\u001b[0m\u001b[0m\n",
      "\u001b[1;32mc:\\users\\aashish agarwal\\appdata\\local\\programs\\python\\python36\\lib\\site-packages\\keras\\engine\\training.py\u001b[0m in \u001b[0;36m_standardize_user_data\u001b[1;34m(self, x, y, sample_weight, class_weight, check_array_lengths, batch_size)\u001b[0m\n\u001b[0;32m    749\u001b[0m             \u001b[0mfeed_input_shapes\u001b[0m\u001b[1;33m,\u001b[0m\u001b[1;33m\u001b[0m\u001b[0m\n\u001b[0;32m    750\u001b[0m             \u001b[0mcheck_batch_axis\u001b[0m\u001b[1;33m=\u001b[0m\u001b[1;32mFalse\u001b[0m\u001b[1;33m,\u001b[0m  \u001b[1;31m# Don't enforce the batch size.\u001b[0m\u001b[1;33m\u001b[0m\u001b[0m\n\u001b[1;32m--> 751\u001b[1;33m             exception_prefix='input')\n\u001b[0m\u001b[0;32m    752\u001b[0m \u001b[1;33m\u001b[0m\u001b[0m\n\u001b[0;32m    753\u001b[0m         \u001b[1;32mif\u001b[0m \u001b[0my\u001b[0m \u001b[1;32mis\u001b[0m \u001b[1;32mnot\u001b[0m \u001b[1;32mNone\u001b[0m\u001b[1;33m:\u001b[0m\u001b[1;33m\u001b[0m\u001b[0m\n",
      "\u001b[1;32mc:\\users\\aashish agarwal\\appdata\\local\\programs\\python\\python36\\lib\\site-packages\\keras\\engine\\training_utils.py\u001b[0m in \u001b[0;36mstandardize_input_data\u001b[1;34m(data, names, shapes, check_batch_axis, exception_prefix)\u001b[0m\n\u001b[0;32m    126\u001b[0m                         \u001b[1;34m': expected '\u001b[0m \u001b[1;33m+\u001b[0m \u001b[0mnames\u001b[0m\u001b[1;33m[\u001b[0m\u001b[0mi\u001b[0m\u001b[1;33m]\u001b[0m \u001b[1;33m+\u001b[0m \u001b[1;34m' to have '\u001b[0m \u001b[1;33m+\u001b[0m\u001b[1;33m\u001b[0m\u001b[0m\n\u001b[0;32m    127\u001b[0m                         \u001b[0mstr\u001b[0m\u001b[1;33m(\u001b[0m\u001b[0mlen\u001b[0m\u001b[1;33m(\u001b[0m\u001b[0mshape\u001b[0m\u001b[1;33m)\u001b[0m\u001b[1;33m)\u001b[0m \u001b[1;33m+\u001b[0m \u001b[1;34m' dimensions, but got array '\u001b[0m\u001b[1;33m\u001b[0m\u001b[0m\n\u001b[1;32m--> 128\u001b[1;33m                         'with shape ' + str(data_shape))\n\u001b[0m\u001b[0;32m    129\u001b[0m                 \u001b[1;32mif\u001b[0m \u001b[1;32mnot\u001b[0m \u001b[0mcheck_batch_axis\u001b[0m\u001b[1;33m:\u001b[0m\u001b[1;33m\u001b[0m\u001b[0m\n\u001b[0;32m    130\u001b[0m                     \u001b[0mdata_shape\u001b[0m \u001b[1;33m=\u001b[0m \u001b[0mdata_shape\u001b[0m\u001b[1;33m[\u001b[0m\u001b[1;36m1\u001b[0m\u001b[1;33m:\u001b[0m\u001b[1;33m]\u001b[0m\u001b[1;33m\u001b[0m\u001b[0m\n",
      "\u001b[1;31mValueError\u001b[0m: Error when checking input: expected lstm_3_input to have 3 dimensions, but got array with shape (125, 1)"
     ]
    }
   ],
   "source": [
    "new_words = 'Apart from counting words and characters, our online editor can help you to improve word choice and writing style, and, optionally, help you to detect grammar mistakes and plagiarism. To check word count, simply place your cursor into the text box above and start typing. You'll see the number of\""
   ]
  },
  {
   "cell_type": "code",
   "execution_count": 122,
   "metadata": {},
   "outputs": [
    {
     "data": {
      "text/plain": [
       "124"
      ]
     },
     "execution_count": 122,
     "metadata": {},
     "output_type": "execute_result"
    }
   ],
   "source": [
    "np.argmax(pred[0])"
   ]
  },
  {
   "cell_type": "code",
   "execution_count": 123,
   "metadata": {},
   "outputs": [
    {
     "data": {
      "text/plain": [
       "array([[0., 0., 0., 0., 0., 0., 0., 0., 0., 0., 0., 0., 0., 0., 0., 0.,\n",
       "        0., 0., 0., 0., 0., 0., 0., 0., 0., 0., 0., 0., 0., 0., 0., 0.,\n",
       "        0., 0., 0., 0., 0., 0., 0., 0., 0., 0., 0., 0., 0., 0., 0., 0.,\n",
       "        0., 0., 0., 0., 0., 0., 0., 0., 0., 0., 0., 0., 0., 0., 0., 0.,\n",
       "        0., 0., 0., 0., 0., 0., 0., 0., 0., 0., 0., 0., 0., 0., 0., 0.,\n",
       "        0., 0., 0., 0., 0., 0., 0., 0., 0., 0., 0., 0., 0., 0., 0., 0.,\n",
       "        0., 0., 0., 0., 0., 0., 0., 0., 0., 0., 0., 0., 0., 0., 0., 0.,\n",
       "        0., 0., 0., 0., 0., 0., 0., 0., 0., 0., 0., 0., 1.]])"
      ]
     },
     "execution_count": 123,
     "metadata": {},
     "output_type": "execute_result"
    }
   ],
   "source": [
    "seq_one_hot[:1,-1,:]"
   ]
  },
  {
   "cell_type": "code",
   "execution_count": null,
   "metadata": {},
   "outputs": [],
   "source": []
  }
 ],
 "metadata": {
  "kernelspec": {
   "display_name": "Python 3",
   "language": "python",
   "name": "python3"
  },
  "language_info": {
   "codemirror_mode": {
    "name": "ipython",
    "version": 3
   },
   "file_extension": ".py",
   "mimetype": "text/x-python",
   "name": "python",
   "nbconvert_exporter": "python",
   "pygments_lexer": "ipython3",
   "version": "3.6.0"
  }
 },
 "nbformat": 4,
 "nbformat_minor": 2
}
